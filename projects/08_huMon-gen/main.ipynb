{
 "cells": [
  {
   "cell_type": "code",
   "execution_count": 527,
   "metadata": {},
   "outputs": [
    {
     "data": {
      "text/html": [
       "\n",
       "        <iframe\n",
       "            width=\"100%\"\n",
       "            height=\"650\"\n",
       "            src=\"http://127.0.0.1:8050/\"\n",
       "            frameborder=\"0\"\n",
       "            allowfullscreen\n",
       "            \n",
       "        ></iframe>\n",
       "        "
      ],
      "text/plain": [
       "<IPython.lib.display.IFrame at 0x31c435eb0>"
      ]
     },
     "metadata": {},
     "output_type": "display_data"
    }
   ],
   "source": [
    "# !pip install dash\n",
    "from dash import Dash, dcc, html, Input, Output\n",
    "import networkx as nx\n",
    "import pandas as pd\n",
    "import random\n",
    "import numpy as np\n",
    "import plotly.graph_objs as go\n",
    "from matplotlib.colors import to_hex, to_rgb\n",
    "\n",
    "class StatTreeGenerator:\n",
    "    def __init__(self, branch_pattern, performance_threshold=50, stopping_likelihood=0.5):\n",
    "        \"\"\"Initialize the StatTreeGenerator with branching patterns, base stats, max stat cap, \n",
    "        performance threshold, and stopping likelihood for high-performing nodes.\"\"\"\n",
    "        \n",
    "        self.branch_pattern = branch_pattern\n",
    "        self.performance_threshold = performance_threshold  # Metric n: Threshold above which a node may stop lineage\n",
    "        self.stopping_likelihood = stopping_likelihood  # Likelihood x of stopping for high-performing nodes\n",
    "        self.nodes = {}\n",
    "        self.G = nx.DiGraph()\n",
    "        self.base_stat = 50\n",
    "        self.max_stat_cap = 250\n",
    "        self.stats_names = [\"Health\", \"PAttack\", \"PDefense\", \"MAttack\", \"MDefense\", \"Speed\"]\n",
    "        self.sibling_variation_factor = 0.1\n",
    "\n",
    "        # Initialize with base stats for root node\n",
    "        self.nodes[\"0\"] = {\n",
    "            \"generation\": 0,\n",
    "            \"stats\": {stat: self.base_stat for stat in self.stats_names},\n",
    "            \"color\": 'white'\n",
    "        }\n",
    "        \n",
    "        # Color codes for Generation 1 nodes\n",
    "        self.colors = {\n",
    "            \"0-0\": 'magenta',\n",
    "            \"0-1\": 'green',\n",
    "            \"0-2\": 'yellow',\n",
    "            \"0-3\": 'cyan',\n",
    "            \"0-4\": 'black',\n",
    "            \"0-5\": 'purple'\n",
    "        }\n",
    "        self.max_stats_per_generation = {}\n",
    "\n",
    "    def get_generation_stat_threshold(self, generation):\n",
    "        \"\"\"Calculate the average total stats for nodes in a generation and add the performance threshold.\n",
    "        \n",
    "        Args:\n",
    "            generation (int): The generation level for which to calculate the threshold.\n",
    "        \n",
    "        Returns:\n",
    "            float: The stat threshold for this generation.\"\"\"\n",
    "        \n",
    "        total_stats = [\n",
    "            sum(node_data[\"stats\"].values())\n",
    "            for node_data in self.nodes.values()\n",
    "            if node_data[\"generation\"] == generation\n",
    "        ]\n",
    "        \n",
    "        if total_stats:\n",
    "            average_total = sum(total_stats) / len(total_stats)\n",
    "            return average_total + self.performance_threshold\n",
    "        return float('inf')  # No threshold if no nodes are found\n",
    "    \n",
    "    def should_stop_high_performer(self, node_stats, generation):\n",
    "        \"\"\"Determine if a high-performing node should stop its lineage based on the stopping likelihood.\n",
    "        \n",
    "        Args:\n",
    "            node_stats (dict): The stats of the node.\n",
    "            generation (int): The generation of the node.\n",
    "        \n",
    "        Returns:\n",
    "            bool: True if the node should stop its lineage, False otherwise.\"\"\"\n",
    "        \n",
    "        total_stats = sum(node_stats.values())\n",
    "        threshold = self.get_generation_stat_threshold(generation)\n",
    "        \n",
    "        # Check if the node exceeds the threshold and apply the likelihood\n",
    "        if total_stats > threshold:\n",
    "            return random.random() < self.stopping_likelihood\n",
    "        return False\n",
    "\n",
    "    def create_branches(self, parent_id, generation):\n",
    "        \"\"\"Recursively create child nodes for each generation, stopping high-performing lineages probabilistically.\n",
    "        \n",
    "        Args:\n",
    "            parent_id (str): The ID of the parent node.\n",
    "            generation (int): The generation level for the child nodes.\"\"\"\n",
    "        \n",
    "        if generation > len(self.branch_pattern):\n",
    "            return\n",
    "        \n",
    "        num_children = self.branch_pattern[generation - 1]\n",
    "        \n",
    "        for i in range(num_children):\n",
    "            child_id = f\"{parent_id}-{i}\"\n",
    "            \n",
    "            if generation > 1:\n",
    "                # Check if the parent node is a high performer and if it should stop lineage\n",
    "                if self.should_stop_high_performer(self.nodes[parent_id][\"stats\"], generation - 1):\n",
    "                    continue  # Skip creating this branch\n",
    "\n",
    "            # Generation 1 uses predefined color codes\n",
    "            if generation == 1:\n",
    "                color = self.colors.get(child_id, 'gray')\n",
    "                stats = self.generate_ranked_stats(generation)\n",
    "            else:\n",
    "                # For subsequent generations, adjust color and specialize stats\n",
    "                color = self.adjust_color(self.nodes[parent_id][\"color\"], generation)\n",
    "                stats = self.specialize_ranked_stats(parent_id, generation)\n",
    "\n",
    "            # Add the child node and recursively create its branches\n",
    "            self.nodes[child_id] = {\"generation\": generation, \"stats\": stats, \"color\": color}\n",
    "            self.G.add_edge(parent_id, child_id)\n",
    "            self.create_branches(child_id, generation + 1)\n",
    "            \n",
    "    def generate_tree(self):\n",
    "        \"\"\"Generate the entire tree structure starting from the root node, creating branches and calculating max stats for each generation.\"\"\"\n",
    "      \n",
    "        node_id = \"0\"\n",
    "        # Generation 0: initialize root node with base stats totaling 100\n",
    "        base_stat = 100 // 6\n",
    "        self.nodes[node_id] = {\n",
    "            \"generation\": 0,\n",
    "            \"stats\": {stat: base_stat for stat in [\"Health\", \"PAttack\", \"PDefense\", \"MAttack\", \"MDefense\", \"Speed\"]},\n",
    "            \"color\": 'white'\n",
    "        }\n",
    "        self.G.add_node(node_id)\n",
    "        self.create_branches(node_id, 1)\n",
    "        \n",
    "        # Calculate max stats for each generation\n",
    "        self.calculate_max_stats_per_generation()\n",
    "\n",
    "        # Convert nodes dictionary to DataFrame, separating 'stats' dictionary into individual columns\n",
    "        data = []\n",
    "        for node, node_data in self.nodes.items():\n",
    "            row = {\n",
    "                \"node_id\": node,\n",
    "                \"generation\": node_data[\"generation\"],\n",
    "                \"color\": node_data[\"color\"],\n",
    "                **node_data[\"stats\"]  # Unpack stats into individual columns\n",
    "            }\n",
    "            data.append(row)\n",
    "            \n",
    "        return pd.DataFrame(data)\n",
    "\n",
    "    def calculate_max_stats_per_generation(self):\n",
    "        \"\"\"Calculate the maximum possible stats for each generation based on a weighted Fibonacci distribution.\n",
    "        \n",
    "        This function uses a doubling point system to determine max possible stat increases for each generation.\"\"\"\n",
    "      \n",
    "        fibonacci_weights = [333, 222, 111, 55, 20, 3]\n",
    "        total_weight = sum(fibonacci_weights)\n",
    "        \n",
    "        for generation in range(1, max(self.branch_pattern) + 1):\n",
    "            min_points = 10 * (2 ** (generation - 1))\n",
    "            max_points = 64 * (2 ** (generation - 1))\n",
    "            max_additional_points = max_points\n",
    "            \n",
    "            # Calculate the maximum possible distribution for this generation\n",
    "            stat_increase = [int(max_additional_points * weight / total_weight) for weight in fibonacci_weights]\n",
    "            max_stat_increase = sum(stat_increase)\n",
    "            self.max_stats_per_generation[generation] = max_stat_increase + 100  # Starting base stats + max increment\n",
    "\n",
    "    def generate_ranked_stats(self, generation):\n",
    "        \"\"\"Generate stats for nodes in Generation 1 with variation based on stat distribution profiles: \n",
    "        'balanced', 'extreme_one', and 'extreme_two'.\n",
    "        \n",
    "        Args:\n",
    "            generation (int): The generation level for which stats are being generated.\n",
    "        \n",
    "        Returns:\n",
    "            dict: A dictionary of stats for the node.\"\"\"\n",
    "       \n",
    "        base_points = 60 + 20 * generation\n",
    "        stat_profile = random.choice(['balanced', 'extreme_one', 'extreme_two'])\n",
    "        \n",
    "        if stat_profile == 'balanced':\n",
    "            base_allocation = base_points // len(self.stats_names)\n",
    "            stats = {\n",
    "                stat: min(max(self.base_stat, base_allocation + int(np.random.normal(0, base_allocation * 0.3))), self.max_stat_cap)\n",
    "                for stat in self.stats_names\n",
    "            }\n",
    "        \n",
    "        elif stat_profile == 'extreme_one':\n",
    "            dominant_stat = random.choice(self.stats_names)\n",
    "            stats = {stat: self.base_stat for stat in self.stats_names}\n",
    "            stats[dominant_stat] = min(base_points, self.max_stat_cap)\n",
    "            remaining_points = base_points - stats[dominant_stat]\n",
    "            for stat in self.stats_names:\n",
    "                if stat != dominant_stat:\n",
    "                    stats[stat] += min(max(10, int(remaining_points / (len(self.stats_names) - 1))), self.max_stat_cap)\n",
    "        \n",
    "        elif stat_profile == 'extreme_two':\n",
    "            dominant_stats = random.sample(self.stats_names, 2)\n",
    "            stats = {stat: self.base_stat for stat in self.stats_names}\n",
    "            for stat in dominant_stats:\n",
    "                stats[stat] = min(base_points // 2, self.max_stat_cap)\n",
    "            remaining_points = base_points - sum(stats[stat] for stat in dominant_stats)\n",
    "            for stat in self.stats_names:\n",
    "                if stat not in dominant_stats:\n",
    "                    stats[stat] += min(max(10, int(remaining_points / (len(self.stats_names) - 2))), self.max_stat_cap)\n",
    "\n",
    "        # Apply sibling variation factor\n",
    "        for stat in self.stats_names:\n",
    "            stats[stat] = int(stats[stat] * (1 + random.uniform(-self.sibling_variation_factor, self.sibling_variation_factor)))\n",
    "        \n",
    "        return stats\n",
    "\n",
    "    def specialize_ranked_stats(self, parent_id, generation):\n",
    "        \"\"\"Generate stats for nodes in generations beyond Generation 1, inheriting from the parent node's stats \n",
    "        and applying a selected distribution profile: 'balanced', 'extreme_one', 'extreme_two', or 'mixed'.\n",
    "        \n",
    "        Args:\n",
    "            parent_id (str): The ID of the parent node.\n",
    "            generation (int): The generation level for which stats are being specialized.\n",
    "        \n",
    "        Returns:\n",
    "            dict: A dictionary of stats for the child node.\"\"\"\n",
    "  \n",
    "        parent_stats = self.nodes[parent_id][\"stats\"]\n",
    "        base_points = 80 + 30 * generation\n",
    "        stat_profile = random.choice(['balanced', 'extreme_one', 'extreme_two', 'mixed'])\n",
    "\n",
    "        if stat_profile == 'balanced':\n",
    "            stats = {\n",
    "                stat: min(max(10, parent_stats[stat] + int(np.random.normal(0, base_points * 0.1))), self.max_stat_cap)\n",
    "                for stat in self.stats_names\n",
    "            }\n",
    "        \n",
    "        elif stat_profile == 'extreme_one':\n",
    "            dominant_stat = random.choice(self.stats_names)\n",
    "            stats = {stat: min(max(10, parent_stats[stat] + int(np.random.normal(0, base_points * 0.1))), self.max_stat_cap)\n",
    "                     for stat in self.stats_names}\n",
    "            stats[dominant_stat] = min(parent_stats[dominant_stat] + base_points, self.max_stat_cap)\n",
    "\n",
    "        elif stat_profile == 'extreme_two':\n",
    "            dominant_stats = sorted(parent_stats, key=parent_stats.get, reverse=True)[:2]\n",
    "            stats = {stat: min(max(10, parent_stats[stat] + int(np.random.normal(0, base_points * 0.1))), self.max_stat_cap)\n",
    "                     for stat in self.stats_names}\n",
    "            for stat in dominant_stats:\n",
    "                stats[stat] = min(parent_stats[stat] + base_points // 2, self.max_stat_cap)\n",
    "\n",
    "        elif stat_profile == 'mixed':\n",
    "            dominant_stat = random.choice(self.stats_names)\n",
    "            stats = {stat: min(max(10, parent_stats[stat] + int(np.random.normal(0, base_points * 0.15))), self.max_stat_cap)\n",
    "                     for stat in self.stats_names}\n",
    "            stats[dominant_stat] += base_points // 3\n",
    "\n",
    "        # Apply sibling variation factor\n",
    "        for stat in self.stats_names:\n",
    "            stats[stat] = int(stats[stat] * (1 + random.uniform(-self.sibling_variation_factor, self.sibling_variation_factor)))\n",
    "\n",
    "        return stats\n",
    "\n",
    "    def adjust_color(self, color, generation):\n",
    "        \"\"\"Adjust the color of a node based on its generation level by darkening or lightening the original color.\n",
    "        \n",
    "        Args:\n",
    "            color (str): The hex color code of the parent node.\n",
    "            generation (int): The generation level for the child node.\n",
    "        \n",
    "        Returns:\n",
    "            str: The adjusted color code for the child node.\"\"\"\n",
    "        \n",
    "        rgb = np.array(to_rgb(color))\n",
    "        factor = 0.8 + (generation * 0.05)\n",
    "        return to_hex(np.clip(rgb * factor, 0, 1))\n",
    "\n",
    "    def hierarchy_pos(self, G, root=\"0\", width=1.0, vert_gap=0.4, vert_loc=0.5, xcenter=0.5):\n",
    "        \"\"\"Generate hierarchical positions for nodes in the tree for plotting purposes.\n",
    "        \n",
    "        Args:\n",
    "            G (networkx.DiGraph): The tree structure as a directed graph.\n",
    "            root (str): The root node ID.\n",
    "            width (float): Width of the plot.\n",
    "            vert_gap (float): Vertical gap between levels.\n",
    "            vert_loc (float): Vertical location of the root.\n",
    "            xcenter (float): X center position of the root.\n",
    "        \n",
    "        Returns:\n",
    "            dict: A dictionary of node positions for plotting.\"\"\"\n",
    "        \n",
    "        pos = {}\n",
    "\n",
    "        def _hierarchy_pos(node, left, right, vert_loc, parent=None):\n",
    "            pos[node] = ((left + right) / 2, vert_loc)\n",
    "            children = list(G.successors(node))\n",
    "            if children:\n",
    "                dx = (right - left) / len(children)\n",
    "                nextx = left\n",
    "                for child in children:\n",
    "                    _hierarchy_pos(child, nextx, nextx + dx, vert_loc - vert_gap, node)\n",
    "                    nextx += dx\n",
    "\n",
    "        _hierarchy_pos(root, 0, width, vert_loc)\n",
    "        return pos\n",
    "\n",
    "    def plot_tree_structure(self):\n",
    "        \"\"\"Create a Plotly Scatter plot for visualizing the hierarchical tree structure with edges and nodes.\n",
    "        \n",
    "        Returns:\n",
    "            list: A list containing Plotly Scatter traces for edges and nodes in the tree.\"\"\"\n",
    "        pos = self.hierarchy_pos(self.G)\n",
    "        edge_x, edge_y = [], []\n",
    "        for edge in self.G.edges():\n",
    "            x0, y0 = pos[edge[0]]\n",
    "            x1, y1 = pos[edge[1]]\n",
    "            edge_x.extend([x0, x1, None])\n",
    "            edge_y.extend([y0, y1, None])\n",
    "        edge_trace = go.Scatter(x=edge_x, y=edge_y, line=dict(width=0.5, color='#888'), hoverinfo='none', mode='lines')\n",
    "        \n",
    "        node_x, node_y, hover_text, marker_colors, node_ids = [], [], [], [], []\n",
    "        for node in self.G.nodes():\n",
    "            x, y = pos[node]\n",
    "            node_x.append(x)\n",
    "            node_y.append(y)\n",
    "            stats = self.nodes[node][\"stats\"]\n",
    "            color = self.nodes[node][\"color\"]\n",
    "            text = f\"Node ID: {node}<br>Generation: {self.nodes[node]['generation']}\"\n",
    "            hover_text.append(text)\n",
    "            marker_colors.append(color)\n",
    "            node_ids.append(node)  # Add node ID to node_ids list\n",
    "\n",
    "        # Assign node IDs to customdata\n",
    "        node_trace = go.Scatter(\n",
    "            x=node_x, y=node_y, mode='markers', hoverinfo='text', text=hover_text,\n",
    "            marker=dict(size=20, color=marker_colors, line=dict(color='black', width=1)),\n",
    "            customdata=node_ids, name=\"tree\"  # Attach node IDs to customdata\n",
    "        )\n",
    "        \n",
    "        return [edge_trace, node_trace]\n",
    "\n",
    "\n",
    "# Initialize the tree generator\n",
    "tree_generator = StatTreeGenerator(branch_pattern=[6, 3, 3], performance_threshold=10, stopping_likelihood=0.25)\n",
    "tree_data = tree_generator.generate_tree()\n",
    "\n",
    "# Helper function to create dropdown options for multi-node comparison\n",
    "def generate_flat_dropdown_options():\n",
    "    options = [{\"label\": f\"Gen {gen} - {node}\", \"value\": node} for gen in sorted(tree_data[\"generation\"].unique())\n",
    "               for node in tree_data[tree_data[\"generation\"] == gen][\"node_id\"]]\n",
    "    return options\n",
    "\n",
    "app = Dash(__name__)\n",
    "\n",
    "app.layout = html.Div([\n",
    "    # Top Section: Ancestral Tree Visualization\n",
    "    html.Div([\n",
    "        dcc.Graph(\n",
    "            id='tree-plot', \n",
    "            figure={\n",
    "                'data': tree_generator.plot_tree_structure(),\n",
    "                'layout': go.Layout(title='Ancestral Tree', showlegend=False, margin=dict(b=20, l=20, r=20, t=40))\n",
    "            }\n",
    "        ),\n",
    "    ], style={'width': '100%', 'display': 'inline-block'}),\n",
    "\n",
    "    # Middle Section: Selected Node and Immediate Children Radar Charts\n",
    "    html.Div([\n",
    "        # Left column: Single node radar chart and stats\n",
    "        html.Div([\n",
    "            dcc.Graph(id='single-node-radar-chart'),\n",
    "            html.Div(id='single-node-total-stats', style={\n",
    "                'margin-top': '10px',\n",
    "                'padding': '10px',\n",
    "                'font-size': '16px',\n",
    "                'text-align': 'center',\n",
    "                'background-color': '#f0f0f0',\n",
    "                'border': '1px solid #ccc',\n",
    "                'border-radius': '5px'\n",
    "            }),\n",
    "        ], style={'width': '48%', 'display': 'inline-block', 'vertical-align': 'top'}),\n",
    "\n",
    "        # Right column: Immediate children radar chart\n",
    "        html.Div([\n",
    "            html.H4(\"Immediate Children Stats Comparison\"),\n",
    "            dcc.Graph(id='children-radar-chart'),\n",
    "        ], style={'width': '48%', 'display': 'inline-block', 'vertical-align': 'top', 'margin-left': '4%'}),\n",
    "    ], style={'width': '100%', 'display': 'inline-block', 'margin-top': '20px'}),\n",
    "\n",
    "   # Bottom Section: Multi-Node Comparison\n",
    "    html.Div([\n",
    "        html.Label(\"Select up to 6 nodes for comparison:\"),\n",
    "    \n",
    "        # Container for dropdowns and radar chart in a row layout\n",
    "        html.Div([\n",
    "            # Left side: Dropdown selectors in a column\n",
    "            html.Div([\n",
    "                html.Div([\n",
    "                    dcc.Dropdown(\n",
    "                        id=f'node-slot-{i}',\n",
    "                        options=generate_flat_dropdown_options(),\n",
    "                        placeholder=f\"Select Node {i + 1}\"\n",
    "                    )\n",
    "                ], style={'margin-bottom': '10px'}) for i in range(6)\n",
    "            ], style={'width': '20%', 'display': 'inline-block', 'vertical-align': 'top'}),\n",
    "\n",
    "        # Right side: Comparison radar chart\n",
    "        html.Div([\n",
    "            dcc.Graph(id='comparison-radar-chart'),\n",
    "            html.Div(id='total-stats', style={\n",
    "                'margin-top': '20px',\n",
    "                'padding': '10px',\n",
    "                'font-size': '14px',\n",
    "                'text-align': 'center',\n",
    "                'background-color': '#f0f0f0',\n",
    "                'border': '1px solid #ccc',\n",
    "                'border-radius': '5px'\n",
    "            })\n",
    "        ], style={'width': '75%', 'display': 'inline-block', 'vertical-align': 'top', 'margin-left': '5%'})\n",
    "        \n",
    "    ], style={'width': '100%', 'display': 'flex', 'align-items': 'flex-start', 'margin-top': '20px'}),\n",
    "], style={'width': '100%', 'display': 'inline-block', 'margin-top': '20px'}),\n",
    "])\n",
    "\n",
    "# Callback for single node radar chart and children radar chart\n",
    "@app.callback(\n",
    "    [Output('single-node-radar-chart', 'figure'), Output('single-node-total-stats', 'children'),\n",
    "     Output('children-radar-chart', 'figure')],\n",
    "    Input('tree-plot', 'clickData')\n",
    ")\n",
    "def update_single_node_radar_chart_and_children(clickData):\n",
    "    if not clickData:\n",
    "        return go.Figure(), \"Select a node to view stats\", go.Figure()\n",
    "    \n",
    "    node_id = clickData['points'][0].get('customdata')\n",
    "    if not node_id or node_id not in tree_generator.nodes:\n",
    "        return go.Figure(), \"Node data not found\", go.Figure()\n",
    "    \n",
    "    # Define a fixed order for the stats\n",
    "    fixed_order = [\"Health\", \"PAttack\", \"PDefense\", \"MAttack\", \"MDefense\", \"Speed\"]\n",
    "    stats = tree_generator.nodes[node_id][\"stats\"]\n",
    "    values = [stats[stat] for stat in fixed_order]\n",
    "    total_stat_value = sum(values)\n",
    "\n",
    "    # Create single-node radar chart\n",
    "    radar_chart = go.Figure()\n",
    "    radar_chart.add_trace(go.Scatterpolar(\n",
    "        r=values,\n",
    "        theta=fixed_order,\n",
    "        fill='toself',\n",
    "        name=f\"Node {node_id}\",\n",
    "        marker=dict(color=tree_generator.nodes[node_id][\"color\"])\n",
    "    ))\n",
    "    radar_chart.update_layout(\n",
    "        polar=dict(radialaxis=dict(visible=True, range=[0, max(values)])),\n",
    "        showlegend=False,\n",
    "        title=f\"Stats for Node {node_id}\"\n",
    "    )\n",
    "\n",
    "    # Display total stats for this node\n",
    "    total_stats_text = html.Div([\n",
    "        html.B(f\"Total Stats for Node {node_id}\"), html.Br(),\n",
    "        html.Span(\", \".join([f\"{stat}: {value}\" for stat, value in zip(fixed_order, values)])),\n",
    "        html.Br(),\n",
    "        html.B(f\"Overall Total: {total_stat_value}\")\n",
    "    ])\n",
    "\n",
    "    # Get immediate children of the selected node\n",
    "    children = list(tree_generator.G.successors(node_id))\n",
    "    children_radar_chart = go.Figure()\n",
    "\n",
    "    # Generate colors for each child (up to 6 unique colors for visibility)\n",
    "    colors = [\"blue\", \"green\", \"red\", \"purple\", \"orange\", \"cyan\"]\n",
    "\n",
    "    # Plot each child node on the radar chart\n",
    "    for idx, child_id in enumerate(children):\n",
    "        child_stats = tree_generator.nodes[child_id][\"stats\"]\n",
    "        child_values = [child_stats[stat] for stat in fixed_order]\n",
    "\n",
    "        children_radar_chart.add_trace(go.Scatterpolar(\n",
    "            r=child_values,\n",
    "            theta=fixed_order,\n",
    "            fill='toself',\n",
    "            name=f\"Child {child_id}\",\n",
    "            marker=dict(color=colors[idx % len(colors)])\n",
    "        ))\n",
    "\n",
    "    # Update children radar chart layout\n",
    "    children_radar_chart.update_layout(\n",
    "        polar=dict(radialaxis=dict(visible=True, range=[0, max([max(values) for values in children_radar_chart.data]) if children_radar_chart.data else 100])),\n",
    "        showlegend=True,\n",
    "        title=\"Immediate Children Stats Comparison\"\n",
    "    )\n",
    "\n",
    "    return radar_chart, total_stats_text, children_radar_chart\n",
    "\n",
    "# Callback for multi-node comparison radar chart\n",
    "@app.callback(\n",
    "    [Output('comparison-radar-chart', 'figure'), Output('total-stats', 'children')],\n",
    "    [Input(f'node-slot-{i}', 'value') for i in range(6)]\n",
    ")\n",
    "def update_comparison_radar_chart(*selected_nodes):\n",
    "    selected_nodes = [node_id for node_id in selected_nodes if node_id is not None]\n",
    "\n",
    "    fixed_order = [\"Health\", \"PAttack\", \"PDefense\", \"MAttack\", \"MDefense\", \"Speed\"]\n",
    "    radar_chart = go.Figure()\n",
    "    colors = [\"blue\", \"green\", \"red\", \"purple\", \"orange\", \"cyan\"]\n",
    "    total_stats_content = []\n",
    "\n",
    "    for idx, node_id in enumerate(selected_nodes):\n",
    "        if node_id not in tree_generator.nodes:\n",
    "            continue\n",
    "\n",
    "        stats = tree_generator.nodes[node_id][\"stats\"]\n",
    "        values = [stats[stat] for stat in fixed_order]\n",
    "        total_stat_value = sum(values)\n",
    "        \n",
    "        radar_chart.add_trace(go.Scatterpolar(\n",
    "            r=values,\n",
    "            theta=fixed_order,\n",
    "            fill='toself',\n",
    "            name=f\"Node {node_id}\",\n",
    "            marker=dict(color=colors[idx % len(colors)])\n",
    "        ))\n",
    "        \n",
    "        node_total_text = f\"Node {node_id} - Total: {total_stat_value}\"\n",
    "        stat_details = \", \".join([f\"{stat}: {value}\" for stat, value in zip(fixed_order, values)])\n",
    "        total_stats_content.append(html.Div([\n",
    "            html.B(node_total_text), html.Br(),\n",
    "            html.Span(stat_details)\n",
    "        ], style={'margin-bottom': '10px'}))\n",
    "\n",
    "    radar_chart.update_layout(\n",
    "        polar=dict(radialaxis=dict(visible=True, range=[0, max([max(values) for values in radar_chart.data]) if radar_chart.data else 100])),\n",
    "        showlegend=True,\n",
    "        title=\"Comparison of Selected Nodes\"\n",
    "    )\n",
    "\n",
    "    total_stats_text = html.Div(total_stats_content, style={\n",
    "        'margin-top': '10px',\n",
    "        'font-size': '14px',\n",
    "        'line-height': '1.6'\n",
    "    })\n",
    "\n",
    "    return radar_chart, total_stats_text\n",
    "\n",
    "if __name__ == '__main__':\n",
    "    app.run_server()"
   ]
  },
  {
   "cell_type": "markdown",
   "metadata": {},
   "source": [
    "## Generational Stat Comparison\n",
    "\n",
    "| **Function** | **Description** | **Purpose** | **Interpretation** |\n",
    "|--------------|-----------------|-------------|---------------------|\n",
    "| `summary_statistics` | Calculates summary stats (mean, std, skewness, kurtosis) for each stat in the generation. | Provides a high-level overview of stat distribution. | - **Mean/Std Dev**: Shows average and variability.<br> - **Skewness**: Indicates distribution asymmetry (positive skew = right tail).<br> - **Kurtosis**: Shows outlier prevalence (high kurtosis = more outliers). |\n",
    "| `plot_heatmap` | Displays a heatmap of node stats for a generation, with each node's total stat value included. | Visualizes distribution of each stat for each node. | - **Darker Colors**: Higher values.<br> - **Total Stats**: Located beside each node ID; helps identify nodes with the highest cumulative stats. |\n",
    "| `plot_violin_plots` | Creates violin plots for each stat, showing distribution density. | Highlights distribution shape and density for each stat. | - **Violin Shape**: Wider areas show higher density.<br> - **Quartiles**: Dotted lines show the spread, highlighting skewness. |\n",
    "| `plot_distribution_histograms` | Plots histograms with KDE for each stat, showing frequency distribution. | Visualizes frequency of stat values and their spread. | - **Bars**: Height represents frequency.<br> - **KDE**: Smooth curve of the distribution, showing spread and central tendency. |\n",
    "| `plot_radar_chart` | Displays a radar chart comparing generation averages with individual nodes. | Allows comparison of individual nodes to the generation average. | - **Average Shape**: Filled-in shape shows average values.<br> - **Individual Nodes**: Semi-transparent outlines show variance relative to average. |\n",
    "| `plot_scatter_matrix` | Creates a scatter matrix to visualize relationships between stat pairs. | Identifies correlations between different stats. | - **Scatter Plots**: Patterns between stats (diagonal lines indicate correlations).<br> - **Diagonals**: Show distribution for individual stats. |\n",
    "\n",
    "---\n",
    "\n",
    "### Summary of Visualizations\n",
    "\n",
    "- **Heatmap**: Compare nodes’ stats across a generation and identify nodes with high cumulative stats.\n",
    "- **Violin Plot**: Observe the distribution and density of each stat; wider areas indicate higher density.\n",
    "- **Histograms**: Show the frequency distribution of each stat; peaks indicate common values.\n",
    "- **Radar Chart**: Visualize deviations of nodes from generation averages; outliers are more visible.\n",
    "- **Scatter Matrix**: Spot correlations between stats; useful for understanding stat relationships. \n",
    "\n",
    "This table provides a compact reference to understand and interpret each function and its visualization output."
   ]
  },
  {
   "cell_type": "code",
   "execution_count": 528,
   "metadata": {},
   "outputs": [],
   "source": [
    "# Import necessary libraries\n",
    "import matplotlib.pyplot as plt\n",
    "import seaborn as sns\n",
    "from plotly import express as px\n",
    "from plotly import graph_objs as go\n",
    "\n",
    "# Helper to verify the DataFrame structure\n",
    "def validate_columns(data, expected_columns):\n",
    "    missing_columns = [col for col in expected_columns if col not in data.columns]\n",
    "    if missing_columns:\n",
    "        raise ValueError(f\"Missing expected columns in data: {missing_columns}\")\n",
    "\n",
    "# Filter data for a specific generation\n",
    "def filter_generation(generation, data):\n",
    "    generation_data = data[data['generation'] == generation].copy()  # Ensure copy to avoid modification warnings\n",
    "    if generation_data.empty:\n",
    "        raise ValueError(f\"No data found for generation {generation}\")\n",
    "    return generation_data\n",
    "\n",
    "# Summary Statistics Function with Validation\n",
    "def summary_statistics(generation_data):\n",
    "    validate_columns(generation_data, tree_generator.stats_names)\n",
    "    numeric_data = generation_data.drop(columns=['node_id', 'generation', 'color'], errors='ignore')\n",
    "    \n",
    "    # Calculate summary statistics\n",
    "    summary = numeric_data.describe().T\n",
    "    summary['skew'] = numeric_data.skew()\n",
    "    summary['kurtosis'] = numeric_data.kurt()\n",
    "    \n",
    "    # Display the summary table\n",
    "    display(summary)\n",
    "    return summary\n",
    "\n",
    "# Heatmap Plot with Rounded Values and Total Stats in Row Labels\n",
    "def plot_heatmap(generation_data, generation):\n",
    "    validate_columns(generation_data, tree_generator.stats_names)\n",
    "    \n",
    "    # Round the data to the nearest whole number\n",
    "    rounded_data = generation_data.set_index('node_id').drop(columns=['generation', 'color'], errors='ignore').round()\n",
    "    \n",
    "    # Calculate the total for each node and add it to the index labels\n",
    "    totals = rounded_data.sum(axis=1)\n",
    "    rounded_data.index = [f\"{idx} (Total: {int(total)})\" for idx, total in zip(rounded_data.index, totals)]\n",
    "    \n",
    "    # Plot the heatmap\n",
    "    plt.figure(figsize=(10, 8))\n",
    "    sns.heatmap(\n",
    "        rounded_data,\n",
    "        annot=True,\n",
    "        fmt=\"d\",  # Display as integers\n",
    "        cmap=\"YlGnBu\"\n",
    "    )\n",
    "    plt.title(f'Stat Heatmap for Generation {generation}')\n",
    "    plt.show()\n",
    "\n",
    "# Violin Plot with Validation and Explicit Generation\n",
    "def plot_violin_plots(generation_data, generation):\n",
    "    validate_columns(generation_data, tree_generator.stats_names)\n",
    "    \n",
    "    # Convert node_id to string before melting\n",
    "    generation_data = generation_data.copy()\n",
    "    generation_data['node_id'] = generation_data['node_id'].astype(str)\n",
    "    \n",
    "    melted_data = generation_data.melt(\n",
    "        id_vars=['node_id'], \n",
    "        value_vars=tree_generator.stats_names,\n",
    "        value_name='value',\n",
    "        var_name='variable'\n",
    "    )\n",
    "    \n",
    "    plt.figure(figsize=(12, 6))\n",
    "    sns.violinplot(x=\"variable\", y=\"value\", data=melted_data, inner=\"quartile\")\n",
    "    plt.title(f'Stat Distribution Violin Plot for Generation {generation}')\n",
    "    plt.xticks(rotation=45)  # Rotate labels for better readability\n",
    "    plt.tight_layout()  # Adjust layout to prevent label cutoff\n",
    "    plt.show()\n",
    "\n",
    "# Distribution Histograms with Validation and Explicit Generation\n",
    "def plot_distribution_histograms(generation_data, generation):\n",
    "    validate_columns(generation_data, tree_generator.stats_names)\n",
    "    fig, axes = plt.subplots(2, 3, figsize=(15, 10))\n",
    "    for i, stat in enumerate(tree_generator.stats_names):\n",
    "        sns.histplot(generation_data[stat], kde=True, ax=axes[i // 3, i % 3])\n",
    "        axes[i // 3, i % 3].set_title(f'{stat} Distribution')\n",
    "    plt.suptitle(f'Stat Histograms for Generation {generation}')\n",
    "    plt.tight_layout(rect=[0, 0, 1, 0.95])\n",
    "    plt.show()\n",
    "\n",
    "# Radar Chart with Safeguards\n",
    "def plot_radar_chart(generation_data):\n",
    "    validate_columns(generation_data, tree_generator.stats_names)\n",
    "    avg_stats = generation_data[tree_generator.stats_names].mean()\n",
    "    fig = go.Figure()\n",
    "\n",
    "    fig.add_trace(go.Scatterpolar(\n",
    "        r=avg_stats,\n",
    "        theta=tree_generator.stats_names,\n",
    "        fill='toself',\n",
    "        name='Generation Avg'\n",
    "    ))\n",
    "\n",
    "    for _, row in generation_data.iterrows():\n",
    "        fig.add_trace(go.Scatterpolar(\n",
    "            r=row[tree_generator.stats_names],\n",
    "            theta=tree_generator.stats_names,\n",
    "            fill='toself',\n",
    "            name=row['node_id'],\n",
    "            opacity=0.3\n",
    "        ))\n",
    "\n",
    "    fig.update_layout(\n",
    "        polar=dict(radialaxis=dict(visible=True, range=[0, 250])),\n",
    "        showlegend=True,\n",
    "        title=\"Radar Chart for Generation Stats\"\n",
    "    )\n",
    "    fig.show()\n",
    "\n",
    "# Scatter Matrix with Validation\n",
    "def plot_scatter_matrix(generation_data):\n",
    "    validate_columns(generation_data, tree_generator.stats_names)\n",
    "    fig = px.scatter_matrix(generation_data[tree_generator.stats_names])\n",
    "    fig.update_layout(title=\"Scatter Matrix for Stats\", dragmode=\"select\", height=700)\n",
    "    fig.show()\n"
   ]
  },
  {
   "cell_type": "code",
   "execution_count": 529,
   "metadata": {},
   "outputs": [
    {
     "data": {
      "text/html": [
       "<div>\n",
       "<style scoped>\n",
       "    .dataframe tbody tr th:only-of-type {\n",
       "        vertical-align: middle;\n",
       "    }\n",
       "\n",
       "    .dataframe tbody tr th {\n",
       "        vertical-align: top;\n",
       "    }\n",
       "\n",
       "    .dataframe thead th {\n",
       "        text-align: right;\n",
       "    }\n",
       "</style>\n",
       "<table border=\"1\" class=\"dataframe\">\n",
       "  <thead>\n",
       "    <tr style=\"text-align: right;\">\n",
       "      <th></th>\n",
       "      <th>count</th>\n",
       "      <th>mean</th>\n",
       "      <th>std</th>\n",
       "      <th>min</th>\n",
       "      <th>25%</th>\n",
       "      <th>50%</th>\n",
       "      <th>75%</th>\n",
       "      <th>max</th>\n",
       "      <th>skew</th>\n",
       "      <th>kurtosis</th>\n",
       "    </tr>\n",
       "  </thead>\n",
       "  <tbody>\n",
       "    <tr>\n",
       "      <th>Health</th>\n",
       "      <td>45.0</td>\n",
       "      <td>84.000000</td>\n",
       "      <td>63.485861</td>\n",
       "      <td>9.0</td>\n",
       "      <td>40.0</td>\n",
       "      <td>62.0</td>\n",
       "      <td>126.0</td>\n",
       "      <td>237.0</td>\n",
       "      <td>1.037505</td>\n",
       "      <td>-0.145168</td>\n",
       "    </tr>\n",
       "    <tr>\n",
       "      <th>PAttack</th>\n",
       "      <td>45.0</td>\n",
       "      <td>62.533333</td>\n",
       "      <td>29.931437</td>\n",
       "      <td>19.0</td>\n",
       "      <td>45.0</td>\n",
       "      <td>60.0</td>\n",
       "      <td>74.0</td>\n",
       "      <td>162.0</td>\n",
       "      <td>1.385881</td>\n",
       "      <td>2.627158</td>\n",
       "    </tr>\n",
       "    <tr>\n",
       "      <th>PDefense</th>\n",
       "      <td>45.0</td>\n",
       "      <td>75.600000</td>\n",
       "      <td>61.649449</td>\n",
       "      <td>9.0</td>\n",
       "      <td>46.0</td>\n",
       "      <td>56.0</td>\n",
       "      <td>83.0</td>\n",
       "      <td>268.0</td>\n",
       "      <td>1.643526</td>\n",
       "      <td>2.283174</td>\n",
       "    </tr>\n",
       "    <tr>\n",
       "      <th>MAttack</th>\n",
       "      <td>45.0</td>\n",
       "      <td>102.400000</td>\n",
       "      <td>64.154076</td>\n",
       "      <td>11.0</td>\n",
       "      <td>58.0</td>\n",
       "      <td>76.0</td>\n",
       "      <td>157.0</td>\n",
       "      <td>257.0</td>\n",
       "      <td>1.035173</td>\n",
       "      <td>0.122096</td>\n",
       "    </tr>\n",
       "    <tr>\n",
       "      <th>MDefense</th>\n",
       "      <td>45.0</td>\n",
       "      <td>102.577778</td>\n",
       "      <td>66.403549</td>\n",
       "      <td>9.0</td>\n",
       "      <td>58.0</td>\n",
       "      <td>78.0</td>\n",
       "      <td>142.0</td>\n",
       "      <td>238.0</td>\n",
       "      <td>0.655482</td>\n",
       "      <td>-0.692820</td>\n",
       "    </tr>\n",
       "    <tr>\n",
       "      <th>Speed</th>\n",
       "      <td>45.0</td>\n",
       "      <td>89.533333</td>\n",
       "      <td>67.208833</td>\n",
       "      <td>17.0</td>\n",
       "      <td>49.0</td>\n",
       "      <td>67.0</td>\n",
       "      <td>97.0</td>\n",
       "      <td>267.0</td>\n",
       "      <td>1.550830</td>\n",
       "      <td>1.429271</td>\n",
       "    </tr>\n",
       "  </tbody>\n",
       "</table>\n",
       "</div>"
      ],
      "text/plain": [
       "          count        mean        std   min   25%   50%    75%    max  \\\n",
       "Health     45.0   84.000000  63.485861   9.0  40.0  62.0  126.0  237.0   \n",
       "PAttack    45.0   62.533333  29.931437  19.0  45.0  60.0   74.0  162.0   \n",
       "PDefense   45.0   75.600000  61.649449   9.0  46.0  56.0   83.0  268.0   \n",
       "MAttack    45.0  102.400000  64.154076  11.0  58.0  76.0  157.0  257.0   \n",
       "MDefense   45.0  102.577778  66.403549   9.0  58.0  78.0  142.0  238.0   \n",
       "Speed      45.0   89.533333  67.208833  17.0  49.0  67.0   97.0  267.0   \n",
       "\n",
       "              skew  kurtosis  \n",
       "Health    1.037505 -0.145168  \n",
       "PAttack   1.385881  2.627158  \n",
       "PDefense  1.643526  2.283174  \n",
       "MAttack   1.035173  0.122096  \n",
       "MDefense  0.655482 -0.692820  \n",
       "Speed     1.550830  1.429271  "
      ]
     },
     "metadata": {},
     "output_type": "display_data"
    },
    {
     "data": {
      "image/png": "[encoded data removed]",
      "text/plain": [
       "<Figure size 1000x800 with 2 Axes>"
      ]
     },
     "metadata": {},
     "output_type": "display_data"
    },
    {
     "data": {
      "image/png": "[encoded data removed]",
      "text/plain": [
       "<Figure size 1200x600 with 1 Axes>"
      ]
     },
     "metadata": {},
     "output_type": "display_data"
    },
    {
     "data": {
      "image/png": "[encoded data removed]",
      "text/plain": [
       "<Figure size 1500x1000 with 6 Axes>"
      ]
     },
     "metadata": {},
     "output_type": "display_data"
    },
    {
     "data": {
      "application/vnd.plotly.v1+json": {
       "config": {
        "plotlyServerURL": "https://plot.ly"
       },
       "data": [
        {
         "fill": "toself",
         "name": "Generation Avg",
         "r": [
          84,
          62.53333333333333,
          75.6,
          102.4,
          102.57777777777778,
          89.53333333333333
         ],
         "theta": [
          "Health",
          "PAttack",
          "PDefense",
          "MAttack",
          "MDefense",
          "Speed"
         ],
         "type": "scatterpolar"
        },
        {
         "fill": "toself",
         "name": "0-0-0-0",
         "opacity": 0.3,
         "r": [
          65,
          51,
          36,
          56,
          177,
          267
         ],
         "theta": [
          "Health",
          "PAttack",
          "PDefense",
          "MAttack",
          "MDefense",
          "Speed"
         ],
         "type": "scatterpolar"
        },
        {
         "fill": "toself",
         "name": "0-0-0-1",
         "opacity": 0.3,
         "r": [
          72,
          45,
          59,
          89,
          69,
          201
         ],
         "theta": [
          "Health",
          "PAttack",
          "PDefense",
          "MAttack",
          "MDefense",
          "Speed"
         ],
         "type": "scatterpolar"
        },
        {
         "fill": "toself",
         "name": "0-0-0-2",
         "opacity": 0.3,
         "r": [
          66,
          28,
          26,
          38,
          182,
          235
         ],
         "theta": [
          "Health",
          "PAttack",
          "PDefense",
          "MAttack",
          "MDefense",
          "Speed"
         ],
         "type": "scatterpolar"
        },
        {
         "fill": "toself",
         "name": "0-0-1-0",
         "opacity": 0.3,
         "r": [
          135,
          71,
          55,
          60,
          141,
          59
         ],
         "theta": [
          "Health",
          "PAttack",
          "PDefense",
          "MAttack",
          "MDefense",
          "Speed"
         ],
         "type": "scatterpolar"
        },
        {
         "fill": "toself",
         "name": "0-0-1-2",
         "opacity": 0.3,
         "r": [
          160,
          75,
          65,
          55,
          116,
          77
         ],
         "theta": [
          "Health",
          "PAttack",
          "PDefense",
          "MAttack",
          "MDefense",
          "Speed"
         ],
         "type": "scatterpolar"
        },
        {
         "fill": "toself",
         "name": "0-0-2-0",
         "opacity": 0.3,
         "r": [
          173,
          62,
          9,
          76,
          48,
          73
         ],
         "theta": [
          "Health",
          "PAttack",
          "PDefense",
          "MAttack",
          "MDefense",
          "Speed"
         ],
         "type": "scatterpolar"
        },
        {
         "fill": "toself",
         "name": "0-0-2-1",
         "opacity": 0.3,
         "r": [
          134,
          65,
          26,
          76,
          60,
          33
         ],
         "theta": [
          "Health",
          "PAttack",
          "PDefense",
          "MAttack",
          "MDefense",
          "Speed"
         ],
         "type": "scatterpolar"
        },
        {
         "fill": "toself",
         "name": "0-0-2-2",
         "opacity": 0.3,
         "r": [
          237,
          60,
          10,
          178,
          70,
          47
         ],
         "theta": [
          "Health",
          "PAttack",
          "PDefense",
          "MAttack",
          "MDefense",
          "Speed"
         ],
         "type": "scatterpolar"
        },
        {
         "fill": "toself",
         "name": "0-1-0-0",
         "opacity": 0.3,
         "r": [
          62,
          73,
          19,
          71,
          42,
          83
         ],
         "theta": [
          "Health",
          "PAttack",
          "PDefense",
          "MAttack",
          "MDefense",
          "Speed"
         ],
         "type": "scatterpolar"
        },
        {
         "fill": "toself",
         "name": "0-1-0-1",
         "opacity": 0.3,
         "r": [
          48,
          77,
          98,
          68,
          57,
          30
         ],
         "theta": [
          "Health",
          "PAttack",
          "PDefense",
          "MAttack",
          "MDefense",
          "Speed"
         ],
         "type": "scatterpolar"
        },
        {
         "fill": "toself",
         "name": "0-1-0-2",
         "opacity": 0.3,
         "r": [
          55,
          162,
          20,
          157,
          20,
          70
         ],
         "theta": [
          "Health",
          "PAttack",
          "PDefense",
          "MAttack",
          "MDefense",
          "Speed"
         ],
         "type": "scatterpolar"
        },
        {
         "fill": "toself",
         "name": "0-1-1-0",
         "opacity": 0.3,
         "r": [
          87,
          75,
          238,
          162,
          97,
          93
         ],
         "theta": [
          "Health",
          "PAttack",
          "PDefense",
          "MAttack",
          "MDefense",
          "Speed"
         ],
         "type": "scatterpolar"
        },
        {
         "fill": "toself",
         "name": "0-1-1-2",
         "opacity": 0.3,
         "r": [
          89,
          51,
          268,
          175,
          62,
          104
         ],
         "theta": [
          "Health",
          "PAttack",
          "PDefense",
          "MAttack",
          "MDefense",
          "Speed"
         ],
         "type": "scatterpolar"
        },
        {
         "fill": "toself",
         "name": "0-1-2-0",
         "opacity": 0.3,
         "r": [
          212,
          69,
          33,
          49,
          73,
          75
         ],
         "theta": [
          "Health",
          "PAttack",
          "PDefense",
          "MAttack",
          "MDefense",
          "Speed"
         ],
         "type": "scatterpolar"
        },
        {
         "fill": "toself",
         "name": "0-1-2-1",
         "opacity": 0.3,
         "r": [
          193,
          45,
          66,
          51,
          53,
          58
         ],
         "theta": [
          "Health",
          "PAttack",
          "PDefense",
          "MAttack",
          "MDefense",
          "Speed"
         ],
         "type": "scatterpolar"
        },
        {
         "fill": "toself",
         "name": "0-1-2-2",
         "opacity": 0.3,
         "r": [
          169,
          64,
          49,
          28,
          9,
          45
         ],
         "theta": [
          "Health",
          "PAttack",
          "PDefense",
          "MAttack",
          "MDefense",
          "Speed"
         ],
         "type": "scatterpolar"
        },
        {
         "fill": "toself",
         "name": "0-2-0-1",
         "opacity": 0.3,
         "r": [
          51,
          45,
          98,
          253,
          59,
          61
         ],
         "theta": [
          "Health",
          "PAttack",
          "PDefense",
          "MAttack",
          "MDefense",
          "Speed"
         ],
         "type": "scatterpolar"
        },
        {
         "fill": "toself",
         "name": "0-2-0-2",
         "opacity": 0.3,
         "r": [
          73,
          42,
          178,
          195,
          58,
          89
         ],
         "theta": [
          "Health",
          "PAttack",
          "PDefense",
          "MAttack",
          "MDefense",
          "Speed"
         ],
         "type": "scatterpolar"
        },
        {
         "fill": "toself",
         "name": "0-2-2-0",
         "opacity": 0.3,
         "r": [
          126,
          120,
          55,
          51,
          33,
          67
         ],
         "theta": [
          "Health",
          "PAttack",
          "PDefense",
          "MAttack",
          "MDefense",
          "Speed"
         ],
         "type": "scatterpolar"
        },
        {
         "fill": "toself",
         "name": "0-2-2-1",
         "opacity": 0.3,
         "r": [
          96,
          55,
          52,
          110,
          143,
          97
         ],
         "theta": [
          "Health",
          "PAttack",
          "PDefense",
          "MAttack",
          "MDefense",
          "Speed"
         ],
         "type": "scatterpolar"
        },
        {
         "fill": "toself",
         "name": "0-2-2-2",
         "opacity": 0.3,
         "r": [
          62,
          44,
          52,
          162,
          92,
          152
         ],
         "theta": [
          "Health",
          "PAttack",
          "PDefense",
          "MAttack",
          "MDefense",
          "Speed"
         ],
         "type": "scatterpolar"
        },
        {
         "fill": "toself",
         "name": "0-3-0-0",
         "opacity": 0.3,
         "r": [
          40,
          86,
          74,
          186,
          200,
          43
         ],
         "theta": [
          "Health",
          "PAttack",
          "PDefense",
          "MAttack",
          "MDefense",
          "Speed"
         ],
         "type": "scatterpolar"
        },
        {
         "fill": "toself",
         "name": "0-3-0-1",
         "opacity": 0.3,
         "r": [
          31,
          109,
          9,
          142,
          147,
          61
         ],
         "theta": [
          "Health",
          "PAttack",
          "PDefense",
          "MAttack",
          "MDefense",
          "Speed"
         ],
         "type": "scatterpolar"
        },
        {
         "fill": "toself",
         "name": "0-3-0-2",
         "opacity": 0.3,
         "r": [
          34,
          77,
          9,
          162,
          226,
          67
         ],
         "theta": [
          "Health",
          "PAttack",
          "PDefense",
          "MAttack",
          "MDefense",
          "Speed"
         ],
         "type": "scatterpolar"
        },
        {
         "fill": "toself",
         "name": "0-3-1-0",
         "opacity": 0.3,
         "r": [
          80,
          36,
          59,
          32,
          236,
          27
         ],
         "theta": [
          "Health",
          "PAttack",
          "PDefense",
          "MAttack",
          "MDefense",
          "Speed"
         ],
         "type": "scatterpolar"
        },
        {
         "fill": "toself",
         "name": "0-3-1-1",
         "opacity": 0.3,
         "r": [
          49,
          64,
          67,
          211,
          214,
          64
         ],
         "theta": [
          "Health",
          "PAttack",
          "PDefense",
          "MAttack",
          "MDefense",
          "Speed"
         ],
         "type": "scatterpolar"
        },
        {
         "fill": "toself",
         "name": "0-3-1-2",
         "opacity": 0.3,
         "r": [
          13,
          38,
          82,
          80,
          204,
          54
         ],
         "theta": [
          "Health",
          "PAttack",
          "PDefense",
          "MAttack",
          "MDefense",
          "Speed"
         ],
         "type": "scatterpolar"
        },
        {
         "fill": "toself",
         "name": "0-3-2-1",
         "opacity": 0.3,
         "r": [
          187,
          60,
          88,
          76,
          37,
          85
         ],
         "theta": [
          "Health",
          "PAttack",
          "PDefense",
          "MAttack",
          "MDefense",
          "Speed"
         ],
         "type": "scatterpolar"
        },
        {
         "fill": "toself",
         "name": "0-3-2-2",
         "opacity": 0.3,
         "r": [
          211,
          59,
          48,
          69,
          87,
          159
         ],
         "theta": [
          "Health",
          "PAttack",
          "PDefense",
          "MAttack",
          "MDefense",
          "Speed"
         ],
         "type": "scatterpolar"
        },
        {
         "fill": "toself",
         "name": "0-4-0-0",
         "opacity": 0.3,
         "r": [
          61,
          19,
          60,
          65,
          78,
          260
         ],
         "theta": [
          "Health",
          "PAttack",
          "PDefense",
          "MAttack",
          "MDefense",
          "Speed"
         ],
         "type": "scatterpolar"
        },
        {
         "fill": "toself",
         "name": "0-4-0-1",
         "opacity": 0.3,
         "r": [
          38,
          56,
          62,
          65,
          238,
          110
         ],
         "theta": [
          "Health",
          "PAttack",
          "PDefense",
          "MAttack",
          "MDefense",
          "Speed"
         ],
         "type": "scatterpolar"
        },
        {
         "fill": "toself",
         "name": "0-4-0-2",
         "opacity": 0.3,
         "r": [
          28,
          67,
          54,
          72,
          61,
          109
         ],
         "theta": [
          "Health",
          "PAttack",
          "PDefense",
          "MAttack",
          "MDefense",
          "Speed"
         ],
         "type": "scatterpolar"
        },
        {
         "fill": "toself",
         "name": "0-4-1-0",
         "opacity": 0.3,
         "r": [
          209,
          40,
          173,
          96,
          131,
          66
         ],
         "theta": [
          "Health",
          "PAttack",
          "PDefense",
          "MAttack",
          "MDefense",
          "Speed"
         ],
         "type": "scatterpolar"
        },
        {
         "fill": "toself",
         "name": "0-4-1-2",
         "opacity": 0.3,
         "r": [
          49,
          46,
          128,
          85,
          142,
          244
         ],
         "theta": [
          "Health",
          "PAttack",
          "PDefense",
          "MAttack",
          "MDefense",
          "Speed"
         ],
         "type": "scatterpolar"
        },
        {
         "fill": "toself",
         "name": "0-4-2-0",
         "opacity": 0.3,
         "r": [
          21,
          25,
          134,
          40,
          134,
          77
         ],
         "theta": [
          "Health",
          "PAttack",
          "PDefense",
          "MAttack",
          "MDefense",
          "Speed"
         ],
         "type": "scatterpolar"
        },
        {
         "fill": "toself",
         "name": "0-4-2-1",
         "opacity": 0.3,
         "r": [
          41,
          47,
          226,
          58,
          221,
          17
         ],
         "theta": [
          "Health",
          "PAttack",
          "PDefense",
          "MAttack",
          "MDefense",
          "Speed"
         ],
         "type": "scatterpolar"
        },
        {
         "fill": "toself",
         "name": "0-4-2-2",
         "opacity": 0.3,
         "r": [
          47,
          25,
          182,
          83,
          137,
          67
         ],
         "theta": [
          "Health",
          "PAttack",
          "PDefense",
          "MAttack",
          "MDefense",
          "Speed"
         ],
         "type": "scatterpolar"
        },
        {
         "fill": "toself",
         "name": "0-5-0-0",
         "opacity": 0.3,
         "r": [
          38,
          21,
          56,
          72,
          10,
          31
         ],
         "theta": [
          "Health",
          "PAttack",
          "PDefense",
          "MAttack",
          "MDefense",
          "Speed"
         ],
         "type": "scatterpolar"
        },
        {
         "fill": "toself",
         "name": "0-5-0-1",
         "opacity": 0.3,
         "r": [
          32,
          93,
          30,
          124,
          61,
          51
         ],
         "theta": [
          "Health",
          "PAttack",
          "PDefense",
          "MAttack",
          "MDefense",
          "Speed"
         ],
         "type": "scatterpolar"
        },
        {
         "fill": "toself",
         "name": "0-5-0-2",
         "opacity": 0.3,
         "r": [
          60,
          38,
          83,
          81,
          34,
          235
         ],
         "theta": [
          "Health",
          "PAttack",
          "PDefense",
          "MAttack",
          "MDefense",
          "Speed"
         ],
         "type": "scatterpolar"
        },
        {
         "fill": "toself",
         "name": "0-5-1-0",
         "opacity": 0.3,
         "r": [
          63,
          45,
          46,
          252,
          66,
          50
         ],
         "theta": [
          "Health",
          "PAttack",
          "PDefense",
          "MAttack",
          "MDefense",
          "Speed"
         ],
         "type": "scatterpolar"
        },
        {
         "fill": "toself",
         "name": "0-5-1-1",
         "opacity": 0.3,
         "r": [
          16,
          146,
          56,
          257,
          21,
          49
         ],
         "theta": [
          "Health",
          "PAttack",
          "PDefense",
          "MAttack",
          "MDefense",
          "Speed"
         ],
         "type": "scatterpolar"
        },
        {
         "fill": "toself",
         "name": "0-5-2-0",
         "opacity": 0.3,
         "r": [
          42,
          102,
          49,
          11,
          126,
          29
         ],
         "theta": [
          "Health",
          "PAttack",
          "PDefense",
          "MAttack",
          "MDefense",
          "Speed"
         ],
         "type": "scatterpolar"
        },
        {
         "fill": "toself",
         "name": "0-5-2-1",
         "opacity": 0.3,
         "r": [
          16,
          62,
          52,
          72,
          59,
          32
         ],
         "theta": [
          "Health",
          "PAttack",
          "PDefense",
          "MAttack",
          "MDefense",
          "Speed"
         ],
         "type": "scatterpolar"
        },
        {
         "fill": "toself",
         "name": "0-5-2-2",
         "opacity": 0.3,
         "r": [
          9,
          74,
          63,
          57,
          85,
          26
         ],
         "theta": [
          "Health",
          "PAttack",
          "PDefense",
          "MAttack",
          "MDefense",
          "Speed"
         ],
         "type": "scatterpolar"
        }
       ],
       "layout": {
        "polar": {
         "radialaxis": {
          "range": [
           0,
           250
          ],
          "visible": true
         }
        },
        "showlegend": true,
        "template": {
         "data": {
          "bar": [
           {
            "error_x": {
             "color": "#2a3f5f"
            },
            "error_y": {
             "color": "#2a3f5f"
            },
            "marker": {
             "line": {
              "color": "#E5ECF6",
              "width": 0.5
             },
             "pattern": {
              "fillmode": "overlay",
              "size": 10,
              "solidity": 0.2
             }
            },
            "type": "bar"
           }
          ],
          "barpolar": [
           {
            "marker": {
             "line": {
              "color": "#E5ECF6",
              "width": 0.5
             },
             "pattern": {
              "fillmode": "overlay",
              "size": 10,
              "solidity": 0.2
             }
            },
            "type": "barpolar"
           }
          ],
          "carpet": [
           {
            "aaxis": {
             "endlinecolor": "#2a3f5f",
             "gridcolor": "white",
             "linecolor": "white",
             "minorgridcolor": "white",
             "startlinecolor": "#2a3f5f"
            },
            "baxis": {
             "endlinecolor": "#2a3f5f",
             "gridcolor": "white",
             "linecolor": "white",
             "minorgridcolor": "white",
             "startlinecolor": "#2a3f5f"
            },
            "type": "carpet"
           }
          ],
          "choropleth": [
           {
            "colorbar": {
             "outlinewidth": 0,
             "ticks": ""
            },
            "type": "choropleth"
           }
          ],
          "contour": [
           {
            "colorbar": {
             "outlinewidth": 0,
             "ticks": ""
            },
            "colorscale": [
             [
              0,
              "#0d0887"
             ],
             [
              0.1111111111111111,
              "#46039f"
             ],
             [
              0.2222222222222222,
              "#7201a8"
             ],
             [
              0.3333333333333333,
              "#9c179e"
             ],
             [
              0.4444444444444444,
              "#bd3786"
             ],
             [
              0.5555555555555556,
              "#d8576b"
             ],
             [
              0.6666666666666666,
              "#ed7953"
             ],
             [
              0.7777777777777778,
              "#fb9f3a"
             ],
             [
              0.8888888888888888,
              "#fdca26"
             ],
             [
              1,
              "#f0f921"
             ]
            ],
            "type": "contour"
           }
          ],
          "contourcarpet": [
           {
            "colorbar": {
             "outlinewidth": 0,
             "ticks": ""
            },
            "type": "contourcarpet"
           }
          ],
          "heatmap": [
           {
            "colorbar": {
             "outlinewidth": 0,
             "ticks": ""
            },
            "colorscale": [
             [
              0,
              "#0d0887"
             ],
             [
              0.1111111111111111,
              "#46039f"
             ],
             [
              0.2222222222222222,
              "#7201a8"
             ],
             [
              0.3333333333333333,
              "#9c179e"
             ],
             [
              0.4444444444444444,
              "#bd3786"
             ],
             [
              0.5555555555555556,
              "#d8576b"
             ],
             [
              0.6666666666666666,
              "#ed7953"
             ],
             [
              0.7777777777777778,
              "#fb9f3a"
             ],
             [
              0.8888888888888888,
              "#fdca26"
             ],
             [
              1,
              "#f0f921"
             ]
            ],
            "type": "heatmap"
           }
          ],
          "heatmapgl": [
           {
            "colorbar": {
             "outlinewidth": 0,
             "ticks": ""
            },
            "colorscale": [
             [
              0,
              "#0d0887"
             ],
             [
              0.1111111111111111,
              "#46039f"
             ],
             [
              0.2222222222222222,
              "#7201a8"
             ],
             [
              0.3333333333333333,
              "#9c179e"
             ],
             [
              0.4444444444444444,
              "#bd3786"
             ],
             [
              0.5555555555555556,
              "#d8576b"
             ],
             [
              0.6666666666666666,
              "#ed7953"
             ],
             [
              0.7777777777777778,
              "#fb9f3a"
             ],
             [
              0.8888888888888888,
              "#fdca26"
             ],
             [
              1,
              "#f0f921"
             ]
            ],
            "type": "heatmapgl"
           }
          ],
          "histogram": [
           {
            "marker": {
             "pattern": {
              "fillmode": "overlay",
              "size": 10,
              "solidity": 0.2
             }
            },
            "type": "histogram"
           }
          ],
          "histogram2d": [
           {
            "colorbar": {
             "outlinewidth": 0,
             "ticks": ""
            },
            "colorscale": [
             [
              0,
              "#0d0887"
             ],
             [
              0.1111111111111111,
              "#46039f"
             ],
             [
              0.2222222222222222,
              "#7201a8"
             ],
             [
              0.3333333333333333,
              "#9c179e"
             ],
             [
              0.4444444444444444,
              "#bd3786"
             ],
             [
              0.5555555555555556,
              "#d8576b"
             ],
             [
              0.6666666666666666,
              "#ed7953"
             ],
             [
              0.7777777777777778,
              "#fb9f3a"
             ],
             [
              0.8888888888888888,
              "#fdca26"
             ],
             [
              1,
              "#f0f921"
             ]
            ],
            "type": "histogram2d"
           }
          ],
          "histogram2dcontour": [
           {
            "colorbar": {
             "outlinewidth": 0,
             "ticks": ""
            },
            "colorscale": [
             [
              0,
              "#0d0887"
             ],
             [
              0.1111111111111111,
              "#46039f"
             ],
             [
              0.2222222222222222,
              "#7201a8"
             ],
             [
              0.3333333333333333,
              "#9c179e"
             ],
             [
              0.4444444444444444,
              "#bd3786"
             ],
             [
              0.5555555555555556,
              "#d8576b"
             ],
             [
              0.6666666666666666,
              "#ed7953"
             ],
             [
              0.7777777777777778,
              "#fb9f3a"
             ],
             [
              0.8888888888888888,
              "#fdca26"
             ],
             [
              1,
              "#f0f921"
             ]
            ],
            "type": "histogram2dcontour"
           }
          ],
          "mesh3d": [
           {
            "colorbar": {
             "outlinewidth": 0,
             "ticks": ""
            },
            "type": "mesh3d"
           }
          ],
          "parcoords": [
           {
            "line": {
             "colorbar": {
              "outlinewidth": 0,
              "ticks": ""
             }
            },
            "type": "parcoords"
           }
          ],
          "pie": [
           {
            "automargin": true,
            "type": "pie"
           }
          ],
          "scatter": [
           {
            "fillpattern": {
             "fillmode": "overlay",
             "size": 10,
             "solidity": 0.2
            },
            "type": "scatter"
           }
          ],
          "scatter3d": [
           {
            "line": {
             "colorbar": {
              "outlinewidth": 0,
              "ticks": ""
             }
            },
            "marker": {
             "colorbar": {
              "outlinewidth": 0,
              "ticks": ""
             }
            },
            "type": "scatter3d"
           }
          ],
          "scattercarpet": [
           {
            "marker": {
             "colorbar": {
              "outlinewidth": 0,
              "ticks": ""
             }
            },
            "type": "scattercarpet"
           }
          ],
          "scattergeo": [
           {
            "marker": {
             "colorbar": {
              "outlinewidth": 0,
              "ticks": ""
             }
            },
            "type": "scattergeo"
           }
          ],
          "scattergl": [
           {
            "marker": {
             "colorbar": {
              "outlinewidth": 0,
              "ticks": ""
             }
            },
            "type": "scattergl"
           }
          ],
          "scattermapbox": [
           {
            "marker": {
             "colorbar": {
              "outlinewidth": 0,
              "ticks": ""
             }
            },
            "type": "scattermapbox"
           }
          ],
          "scatterpolar": [
           {
            "marker": {
             "colorbar": {
              "outlinewidth": 0,
              "ticks": ""
             }
            },
            "type": "scatterpolar"
           }
          ],
          "scatterpolargl": [
           {
            "marker": {
             "colorbar": {
              "outlinewidth": 0,
              "ticks": ""
             }
            },
            "type": "scatterpolargl"
           }
          ],
          "scatterternary": [
           {
            "marker": {
             "colorbar": {
              "outlinewidth": 0,
              "ticks": ""
             }
            },
            "type": "scatterternary"
           }
          ],
          "surface": [
           {
            "colorbar": {
             "outlinewidth": 0,
             "ticks": ""
            },
            "colorscale": [
             [
              0,
              "#0d0887"
             ],
             [
              0.1111111111111111,
              "#46039f"
             ],
             [
              0.2222222222222222,
              "#7201a8"
             ],
             [
              0.3333333333333333,
              "#9c179e"
             ],
             [
              0.4444444444444444,
              "#bd3786"
             ],
             [
              0.5555555555555556,
              "#d8576b"
             ],
             [
              0.6666666666666666,
              "#ed7953"
             ],
             [
              0.7777777777777778,
              "#fb9f3a"
             ],
             [
              0.8888888888888888,
              "#fdca26"
             ],
             [
              1,
              "#f0f921"
             ]
            ],
            "type": "surface"
           }
          ],
          "table": [
           {
            "cells": {
             "fill": {
              "color": "#EBF0F8"
             },
             "line": {
              "color": "white"
             }
            },
            "header": {
             "fill": {
              "color": "#C8D4E3"
             },
             "line": {
              "color": "white"
             }
            },
            "type": "table"
           }
          ]
         },
         "layout": {
          "annotationdefaults": {
           "arrowcolor": "#2a3f5f",
           "arrowhead": 0,
           "arrowwidth": 1
          },
          "autotypenumbers": "strict",
          "coloraxis": {
           "colorbar": {
            "outlinewidth": 0,
            "ticks": ""
           }
          },
          "colorscale": {
           "diverging": [
            [
             0,
             "#8e0152"
            ],
            [
             0.1,
             "#c51b7d"
            ],
            [
             0.2,
             "#de77ae"
            ],
            [
             0.3,
             "#f1b6da"
            ],
            [
             0.4,
             "#fde0ef"
            ],
            [
             0.5,
             "#f7f7f7"
            ],
            [
             0.6,
             "#e6f5d0"
            ],
            [
             0.7,
             "#b8e186"
            ],
            [
             0.8,
             "#7fbc41"
            ],
            [
             0.9,
             "#4d9221"
            ],
            [
             1,
             "#276419"
            ]
           ],
           "sequential": [
            [
             0,
             "#0d0887"
            ],
            [
             0.1111111111111111,
             "#46039f"
            ],
            [
             0.2222222222222222,
             "#7201a8"
            ],
            [
             0.3333333333333333,
             "#9c179e"
            ],
            [
             0.4444444444444444,
             "#bd3786"
            ],
            [
             0.5555555555555556,
             "#d8576b"
            ],
            [
             0.6666666666666666,
             "#ed7953"
            ],
            [
             0.7777777777777778,
             "#fb9f3a"
            ],
            [
             0.8888888888888888,
             "#fdca26"
            ],
            [
             1,
             "#f0f921"
            ]
           ],
           "sequentialminus": [
            [
             0,
             "#0d0887"
            ],
            [
             0.1111111111111111,
             "#46039f"
            ],
            [
             0.2222222222222222,
             "#7201a8"
            ],
            [
             0.3333333333333333,
             "#9c179e"
            ],
            [
             0.4444444444444444,
             "#bd3786"
            ],
            [
             0.5555555555555556,
             "#d8576b"
            ],
            [
             0.6666666666666666,
             "#ed7953"
            ],
            [
             0.7777777777777778,
             "#fb9f3a"
            ],
            [
             0.8888888888888888,
             "#fdca26"
            ],
            [
             1,
             "#f0f921"
            ]
           ]
          },
          "colorway": [
           "#636efa",
           "#EF553B",
           "#00cc96",
           "#ab63fa",
           "#FFA15A",
           "#19d3f3",
           "#FF6692",
           "#B6E880",
           "#FF97FF",
           "#FECB52"
          ],
          "font": {
           "color": "#2a3f5f"
          },
          "geo": {
           "bgcolor": "white",
           "lakecolor": "white",
           "landcolor": "#E5ECF6",
           "showlakes": true,
           "showland": true,
           "subunitcolor": "white"
          },
          "hoverlabel": {
           "align": "left"
          },
          "hovermode": "closest",
          "mapbox": {
           "style": "light"
          },
          "paper_bgcolor": "white",
          "plot_bgcolor": "#E5ECF6",
          "polar": {
           "angularaxis": {
            "gridcolor": "white",
            "linecolor": "white",
            "ticks": ""
           },
           "bgcolor": "#E5ECF6",
           "radialaxis": {
            "gridcolor": "white",
            "linecolor": "white",
            "ticks": ""
           }
          },
          "scene": {
           "xaxis": {
            "backgroundcolor": "#E5ECF6",
            "gridcolor": "white",
            "gridwidth": 2,
            "linecolor": "white",
            "showbackground": true,
            "ticks": "",
            "zerolinecolor": "white"
           },
           "yaxis": {
            "backgroundcolor": "#E5ECF6",
            "gridcolor": "white",
            "gridwidth": 2,
            "linecolor": "white",
            "showbackground": true,
            "ticks": "",
            "zerolinecolor": "white"
           },
           "zaxis": {
            "backgroundcolor": "#E5ECF6",
            "gridcolor": "white",
            "gridwidth": 2,
            "linecolor": "white",
            "showbackground": true,
            "ticks": "",
            "zerolinecolor": "white"
           }
          },
          "shapedefaults": {
           "line": {
            "color": "#2a3f5f"
           }
          },
          "ternary": {
           "aaxis": {
            "gridcolor": "white",
            "linecolor": "white",
            "ticks": ""
           },
           "baxis": {
            "gridcolor": "white",
            "linecolor": "white",
            "ticks": ""
           },
           "bgcolor": "#E5ECF6",
           "caxis": {
            "gridcolor": "white",
            "linecolor": "white",
            "ticks": ""
           }
          },
          "title": {
           "x": 0.05
          },
          "xaxis": {
           "automargin": true,
           "gridcolor": "white",
           "linecolor": "white",
           "ticks": "",
           "title": {
            "standoff": 15
           },
           "zerolinecolor": "white",
           "zerolinewidth": 2
          },
          "yaxis": {
           "automargin": true,
           "gridcolor": "white",
           "linecolor": "white",
           "ticks": "",
           "title": {
            "standoff": 15
           },
           "zerolinecolor": "white",
           "zerolinewidth": 2
          }
         }
        },
        "title": {
         "text": "Radar Chart for Generation Stats"
        }
       }
      }
     },
     "metadata": {},
     "output_type": "display_data"
    },
    {
     "data": {
      "application/vnd.plotly.v1+json": {
       "config": {
        "plotlyServerURL": "https://plot.ly"
       },
       "data": [
        {
         "dimensions": [
          {
           "axis": {
            "matches": true
           },
           "label": "Health",
           "values": [
            65,
            72,
            66,
            135,
            160,
            173,
            134,
            237,
            62,
            48,
            55,
            87,
            89,
            212,
            193,
            169,
            51,
            73,
            126,
            96,
            62,
            40,
            31,
            34,
            80,
            49,
            13,
            187,
            211,
            61,
            38,
            28,
            209,
            49,
            21,
            41,
            47,
            38,
            32,
            60,
            63,
            16,
            42,
            16,
            9
           ]
          },
          {
           "axis": {
            "matches": true
           },
           "label": "PAttack",
           "values": [
            51,
            45,
            28,
            71,
            75,
            62,
            65,
            60,
            73,
            77,
            162,
            75,
            51,
            69,
            45,
            64,
            45,
            42,
            120,
            55,
            44,
            86,
            109,
            77,
            36,
            64,
            38,
            60,
            59,
            19,
            56,
            67,
            40,
            46,
            25,
            47,
            25,
            21,
            93,
            38,
            45,
            146,
            102,
            62,
            74
           ]
          },
          {
           "axis": {
            "matches": true
           },
           "label": "PDefense",
           "values": [
            36,
            59,
            26,
            55,
            65,
            9,
            26,
            10,
            19,
            98,
            20,
            238,
            268,
            33,
            66,
            49,
            98,
            178,
            55,
            52,
            52,
            74,
            9,
            9,
            59,
            67,
            82,
            88,
            48,
            60,
            62,
            54,
            173,
            128,
            134,
            226,
            182,
            56,
            30,
            83,
            46,
            56,
            49,
            52,
            63
           ]
          },
          {
           "axis": {
            "matches": true
           },
           "label": "MAttack",
           "values": [
            56,
            89,
            38,
            60,
            55,
            76,
            76,
            178,
            71,
            68,
            157,
            162,
            175,
            49,
            51,
            28,
            253,
            195,
            51,
            110,
            162,
            186,
            142,
            162,
            32,
            211,
            80,
            76,
            69,
            65,
            65,
            72,
            96,
            85,
            40,
            58,
            83,
            72,
            124,
            81,
            252,
            257,
            11,
            72,
            57
           ]
          },
          {
           "axis": {
            "matches": true
           },
           "label": "MDefense",
           "values": [
            177,
            69,
            182,
            141,
            116,
            48,
            60,
            70,
            42,
            57,
            20,
            97,
            62,
            73,
            53,
            9,
            59,
            58,
            33,
            143,
            92,
            200,
            147,
            226,
            236,
            214,
            204,
            37,
            87,
            78,
            238,
            61,
            131,
            142,
            134,
            221,
            137,
            10,
            61,
            34,
            66,
            21,
            126,
            59,
            85
           ]
          },
          {
           "axis": {
            "matches": true
           },
           "label": "Speed",
           "values": [
            267,
            201,
            235,
            59,
            77,
            73,
            33,
            47,
            83,
            30,
            70,
            93,
            104,
            75,
            58,
            45,
            61,
            89,
            67,
            97,
            152,
            43,
            61,
            67,
            27,
            64,
            54,
            85,
            159,
            260,
            110,
            109,
            66,
            244,
            77,
            17,
            67,
            31,
            51,
            235,
            50,
            49,
            29,
            32,
            26
           ]
          }
         ],
         "hovertemplate": "%{xaxis.title.text}=%{x}<br>%{yaxis.title.text}=%{y}<extra></extra>",
         "legendgroup": "",
         "marker": {
          "color": "#636efa",
          "symbol": "circle"
         },
         "name": "",
         "showlegend": false,
         "type": "splom"
        }
       ],
       "layout": {
        "dragmode": "select",
        "height": 700,
        "legend": {
         "tracegroupgap": 0
        },
        "margin": {
         "t": 60
        },
        "template": {
         "data": {
          "bar": [
           {
            "error_x": {
             "color": "#2a3f5f"
            },
            "error_y": {
             "color": "#2a3f5f"
            },
            "marker": {
             "line": {
              "color": "#E5ECF6",
              "width": 0.5
             },
             "pattern": {
              "fillmode": "overlay",
              "size": 10,
              "solidity": 0.2
             }
            },
            "type": "bar"
           }
          ],
          "barpolar": [
           {
            "marker": {
             "line": {
              "color": "#E5ECF6",
              "width": 0.5
             },
             "pattern": {
              "fillmode": "overlay",
              "size": 10,
              "solidity": 0.2
             }
            },
            "type": "barpolar"
           }
          ],
          "carpet": [
           {
            "aaxis": {
             "endlinecolor": "#2a3f5f",
             "gridcolor": "white",
             "linecolor": "white",
             "minorgridcolor": "white",
             "startlinecolor": "#2a3f5f"
            },
            "baxis": {
             "endlinecolor": "#2a3f5f",
             "gridcolor": "white",
             "linecolor": "white",
             "minorgridcolor": "white",
             "startlinecolor": "#2a3f5f"
            },
            "type": "carpet"
           }
          ],
          "choropleth": [
           {
            "colorbar": {
             "outlinewidth": 0,
             "ticks": ""
            },
            "type": "choropleth"
           }
          ],
          "contour": [
           {
            "colorbar": {
             "outlinewidth": 0,
             "ticks": ""
            },
            "colorscale": [
             [
              0,
              "#0d0887"
             ],
             [
              0.1111111111111111,
              "#46039f"
             ],
             [
              0.2222222222222222,
              "#7201a8"
             ],
             [
              0.3333333333333333,
              "#9c179e"
             ],
             [
              0.4444444444444444,
              "#bd3786"
             ],
             [
              0.5555555555555556,
              "#d8576b"
             ],
             [
              0.6666666666666666,
              "#ed7953"
             ],
             [
              0.7777777777777778,
              "#fb9f3a"
             ],
             [
              0.8888888888888888,
              "#fdca26"
             ],
             [
              1,
              "#f0f921"
             ]
            ],
            "type": "contour"
           }
          ],
          "contourcarpet": [
           {
            "colorbar": {
             "outlinewidth": 0,
             "ticks": ""
            },
            "type": "contourcarpet"
           }
          ],
          "heatmap": [
           {
            "colorbar": {
             "outlinewidth": 0,
             "ticks": ""
            },
            "colorscale": [
             [
              0,
              "#0d0887"
             ],
             [
              0.1111111111111111,
              "#46039f"
             ],
             [
              0.2222222222222222,
              "#7201a8"
             ],
             [
              0.3333333333333333,
              "#9c179e"
             ],
             [
              0.4444444444444444,
              "#bd3786"
             ],
             [
              0.5555555555555556,
              "#d8576b"
             ],
             [
              0.6666666666666666,
              "#ed7953"
             ],
             [
              0.7777777777777778,
              "#fb9f3a"
             ],
             [
              0.8888888888888888,
              "#fdca26"
             ],
             [
              1,
              "#f0f921"
             ]
            ],
            "type": "heatmap"
           }
          ],
          "heatmapgl": [
           {
            "colorbar": {
             "outlinewidth": 0,
             "ticks": ""
            },
            "colorscale": [
             [
              0,
              "#0d0887"
             ],
             [
              0.1111111111111111,
              "#46039f"
             ],
             [
              0.2222222222222222,
              "#7201a8"
             ],
             [
              0.3333333333333333,
              "#9c179e"
             ],
             [
              0.4444444444444444,
              "#bd3786"
             ],
             [
              0.5555555555555556,
              "#d8576b"
             ],
             [
              0.6666666666666666,
              "#ed7953"
             ],
             [
              0.7777777777777778,
              "#fb9f3a"
             ],
             [
              0.8888888888888888,
              "#fdca26"
             ],
             [
              1,
              "#f0f921"
             ]
            ],
            "type": "heatmapgl"
           }
          ],
          "histogram": [
           {
            "marker": {
             "pattern": {
              "fillmode": "overlay",
              "size": 10,
              "solidity": 0.2
             }
            },
            "type": "histogram"
           }
          ],
          "histogram2d": [
           {
            "colorbar": {
             "outlinewidth": 0,
             "ticks": ""
            },
            "colorscale": [
             [
              0,
              "#0d0887"
             ],
             [
              0.1111111111111111,
              "#46039f"
             ],
             [
              0.2222222222222222,
              "#7201a8"
             ],
             [
              0.3333333333333333,
              "#9c179e"
             ],
             [
              0.4444444444444444,
              "#bd3786"
             ],
             [
              0.5555555555555556,
              "#d8576b"
             ],
             [
              0.6666666666666666,
              "#ed7953"
             ],
             [
              0.7777777777777778,
              "#fb9f3a"
             ],
             [
              0.8888888888888888,
              "#fdca26"
             ],
             [
              1,
              "#f0f921"
             ]
            ],
            "type": "histogram2d"
           }
          ],
          "histogram2dcontour": [
           {
            "colorbar": {
             "outlinewidth": 0,
             "ticks": ""
            },
            "colorscale": [
             [
              0,
              "#0d0887"
             ],
             [
              0.1111111111111111,
              "#46039f"
             ],
             [
              0.2222222222222222,
              "#7201a8"
             ],
             [
              0.3333333333333333,
              "#9c179e"
             ],
             [
              0.4444444444444444,
              "#bd3786"
             ],
             [
              0.5555555555555556,
              "#d8576b"
             ],
             [
              0.6666666666666666,
              "#ed7953"
             ],
             [
              0.7777777777777778,
              "#fb9f3a"
             ],
             [
              0.8888888888888888,
              "#fdca26"
             ],
             [
              1,
              "#f0f921"
             ]
            ],
            "type": "histogram2dcontour"
           }
          ],
          "mesh3d": [
           {
            "colorbar": {
             "outlinewidth": 0,
             "ticks": ""
            },
            "type": "mesh3d"
           }
          ],
          "parcoords": [
           {
            "line": {
             "colorbar": {
              "outlinewidth": 0,
              "ticks": ""
             }
            },
            "type": "parcoords"
           }
          ],
          "pie": [
           {
            "automargin": true,
            "type": "pie"
           }
          ],
          "scatter": [
           {
            "fillpattern": {
             "fillmode": "overlay",
             "size": 10,
             "solidity": 0.2
            },
            "type": "scatter"
           }
          ],
          "scatter3d": [
           {
            "line": {
             "colorbar": {
              "outlinewidth": 0,
              "ticks": ""
             }
            },
            "marker": {
             "colorbar": {
              "outlinewidth": 0,
              "ticks": ""
             }
            },
            "type": "scatter3d"
           }
          ],
          "scattercarpet": [
           {
            "marker": {
             "colorbar": {
              "outlinewidth": 0,
              "ticks": ""
             }
            },
            "type": "scattercarpet"
           }
          ],
          "scattergeo": [
           {
            "marker": {
             "colorbar": {
              "outlinewidth": 0,
              "ticks": ""
             }
            },
            "type": "scattergeo"
           }
          ],
          "scattergl": [
           {
            "marker": {
             "colorbar": {
              "outlinewidth": 0,
              "ticks": ""
             }
            },
            "type": "scattergl"
           }
          ],
          "scattermapbox": [
           {
            "marker": {
             "colorbar": {
              "outlinewidth": 0,
              "ticks": ""
             }
            },
            "type": "scattermapbox"
           }
          ],
          "scatterpolar": [
           {
            "marker": {
             "colorbar": {
              "outlinewidth": 0,
              "ticks": ""
             }
            },
            "type": "scatterpolar"
           }
          ],
          "scatterpolargl": [
           {
            "marker": {
             "colorbar": {
              "outlinewidth": 0,
              "ticks": ""
             }
            },
            "type": "scatterpolargl"
           }
          ],
          "scatterternary": [
           {
            "marker": {
             "colorbar": {
              "outlinewidth": 0,
              "ticks": ""
             }
            },
            "type": "scatterternary"
           }
          ],
          "surface": [
           {
            "colorbar": {
             "outlinewidth": 0,
             "ticks": ""
            },
            "colorscale": [
             [
              0,
              "#0d0887"
             ],
             [
              0.1111111111111111,
              "#46039f"
             ],
             [
              0.2222222222222222,
              "#7201a8"
             ],
             [
              0.3333333333333333,
              "#9c179e"
             ],
             [
              0.4444444444444444,
              "#bd3786"
             ],
             [
              0.5555555555555556,
              "#d8576b"
             ],
             [
              0.6666666666666666,
              "#ed7953"
             ],
             [
              0.7777777777777778,
              "#fb9f3a"
             ],
             [
              0.8888888888888888,
              "#fdca26"
             ],
             [
              1,
              "#f0f921"
             ]
            ],
            "type": "surface"
           }
          ],
          "table": [
           {
            "cells": {
             "fill": {
              "color": "#EBF0F8"
             },
             "line": {
              "color": "white"
             }
            },
            "header": {
             "fill": {
              "color": "#C8D4E3"
             },
             "line": {
              "color": "white"
             }
            },
            "type": "table"
           }
          ]
         },
         "layout": {
          "annotationdefaults": {
           "arrowcolor": "#2a3f5f",
           "arrowhead": 0,
           "arrowwidth": 1
          },
          "autotypenumbers": "strict",
          "coloraxis": {
           "colorbar": {
            "outlinewidth": 0,
            "ticks": ""
           }
          },
          "colorscale": {
           "diverging": [
            [
             0,
             "#8e0152"
            ],
            [
             0.1,
             "#c51b7d"
            ],
            [
             0.2,
             "#de77ae"
            ],
            [
             0.3,
             "#f1b6da"
            ],
            [
             0.4,
             "#fde0ef"
            ],
            [
             0.5,
             "#f7f7f7"
            ],
            [
             0.6,
             "#e6f5d0"
            ],
            [
             0.7,
             "#b8e186"
            ],
            [
             0.8,
             "#7fbc41"
            ],
            [
             0.9,
             "#4d9221"
            ],
            [
             1,
             "#276419"
            ]
           ],
           "sequential": [
            [
             0,
             "#0d0887"
            ],
            [
             0.1111111111111111,
             "#46039f"
            ],
            [
             0.2222222222222222,
             "#7201a8"
            ],
            [
             0.3333333333333333,
             "#9c179e"
            ],
            [
             0.4444444444444444,
             "#bd3786"
            ],
            [
             0.5555555555555556,
             "#d8576b"
            ],
            [
             0.6666666666666666,
             "#ed7953"
            ],
            [
             0.7777777777777778,
             "#fb9f3a"
            ],
            [
             0.8888888888888888,
             "#fdca26"
            ],
            [
             1,
             "#f0f921"
            ]
           ],
           "sequentialminus": [
            [
             0,
             "#0d0887"
            ],
            [
             0.1111111111111111,
             "#46039f"
            ],
            [
             0.2222222222222222,
             "#7201a8"
            ],
            [
             0.3333333333333333,
             "#9c179e"
            ],
            [
             0.4444444444444444,
             "#bd3786"
            ],
            [
             0.5555555555555556,
             "#d8576b"
            ],
            [
             0.6666666666666666,
             "#ed7953"
            ],
            [
             0.7777777777777778,
             "#fb9f3a"
            ],
            [
             0.8888888888888888,
             "#fdca26"
            ],
            [
             1,
             "#f0f921"
            ]
           ]
          },
          "colorway": [
           "#636efa",
           "#EF553B",
           "#00cc96",
           "#ab63fa",
           "#FFA15A",
           "#19d3f3",
           "#FF6692",
           "#B6E880",
           "#FF97FF",
           "#FECB52"
          ],
          "font": {
           "color": "#2a3f5f"
          },
          "geo": {
           "bgcolor": "white",
           "lakecolor": "white",
           "landcolor": "#E5ECF6",
           "showlakes": true,
           "showland": true,
           "subunitcolor": "white"
          },
          "hoverlabel": {
           "align": "left"
          },
          "hovermode": "closest",
          "mapbox": {
           "style": "light"
          },
          "paper_bgcolor": "white",
          "plot_bgcolor": "#E5ECF6",
          "polar": {
           "angularaxis": {
            "gridcolor": "white",
            "linecolor": "white",
            "ticks": ""
           },
           "bgcolor": "#E5ECF6",
           "radialaxis": {
            "gridcolor": "white",
            "linecolor": "white",
            "ticks": ""
           }
          },
          "scene": {
           "xaxis": {
            "backgroundcolor": "#E5ECF6",
            "gridcolor": "white",
            "gridwidth": 2,
            "linecolor": "white",
            "showbackground": true,
            "ticks": "",
            "zerolinecolor": "white"
           },
           "yaxis": {
            "backgroundcolor": "#E5ECF6",
            "gridcolor": "white",
            "gridwidth": 2,
            "linecolor": "white",
            "showbackground": true,
            "ticks": "",
            "zerolinecolor": "white"
           },
           "zaxis": {
            "backgroundcolor": "#E5ECF6",
            "gridcolor": "white",
            "gridwidth": 2,
            "linecolor": "white",
            "showbackground": true,
            "ticks": "",
            "zerolinecolor": "white"
           }
          },
          "shapedefaults": {
           "line": {
            "color": "#2a3f5f"
           }
          },
          "ternary": {
           "aaxis": {
            "gridcolor": "white",
            "linecolor": "white",
            "ticks": ""
           },
           "baxis": {
            "gridcolor": "white",
            "linecolor": "white",
            "ticks": ""
           },
           "bgcolor": "#E5ECF6",
           "caxis": {
            "gridcolor": "white",
            "linecolor": "white",
            "ticks": ""
           }
          },
          "title": {
           "x": 0.05
          },
          "xaxis": {
           "automargin": true,
           "gridcolor": "white",
           "linecolor": "white",
           "ticks": "",
           "title": {
            "standoff": 15
           },
           "zerolinecolor": "white",
           "zerolinewidth": 2
          },
          "yaxis": {
           "automargin": true,
           "gridcolor": "white",
           "linecolor": "white",
           "ticks": "",
           "title": {
            "standoff": 15
           },
           "zerolinecolor": "white",
           "zerolinewidth": 2
          }
         }
        },
        "title": {
         "text": "Scatter Matrix for Stats"
        }
       }
      }
     },
     "metadata": {},
     "output_type": "display_data"
    }
   ],
   "source": [
    "# Running the dashboard for a specific generation\n",
    "generation = 3  # Set the generation to inspect\n",
    "generation_data = filter_generation(generation, tree_data)\n",
    "\n",
    "# Run summary statistics and plot functions with error handling\n",
    "try:\n",
    "    summary = summary_statistics(generation_data)\n",
    "    plot_heatmap(generation_data, generation)\n",
    "    plot_violin_plots(generation_data, generation)\n",
    "    plot_distribution_histograms(generation_data, generation)\n",
    "    plot_radar_chart(generation_data)\n",
    "    plot_scatter_matrix(generation_data)\n",
    "except ValueError as e:\n",
    "    print(f\"Data error: {e}\")\n",
    "except KeyError as e:\n",
    "    print(f\"Missing column error: {e}\")\n",
    "except Exception as e:\n",
    "    print(f\"An unexpected error occurred: {e}\")"
   ]
  }
 ],
 "metadata": {
  "kernelspec": {
   "display_name": "base",
   "language": "python",
   "name": "python3"
  },
  "language_info": {
   "codemirror_mode": {
    "name": "ipython",
    "version": 3
   },
   "file_extension": ".py",
   "mimetype": "text/x-python",
   "name": "python",
   "nbconvert_exporter": "python",
   "pygments_lexer": "ipython3",
   "version": "3.12.2"
  }
 },
 "nbformat": 4,
 "nbformat_minor": 4
}
