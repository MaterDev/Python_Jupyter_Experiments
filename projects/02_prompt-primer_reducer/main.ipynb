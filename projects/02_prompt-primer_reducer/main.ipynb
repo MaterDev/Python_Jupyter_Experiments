{
 "cells": [
  {
   "cell_type": "markdown",
   "metadata": {},
   "source": [
    "# Reducing GPT Primer Files\n",
    "\n",
    "Welcome! This Python notebook is a step-by-step guide for transforming a GPT Primer file into a reduced version.\n",
    "\n",
    "### Background\n",
    "\n",
    "A GPT Primer file, often used with OpenAI's language model, is a YML file that consists of metadata used to influence, constrain, and contextualize ChatGPT responses. This notebook will help you create a reduced version of such files, improving efficiency, reducing token usage, making for more consistent outputs."
   ]
  },
  {
   "cell_type": "markdown",
   "metadata": {},
   "source": [
    "## Run this reducer:\n",
    "\n",
    "- Just uncomment and change the `primer_name` variable to the file in `/primers` that you want to reduce.\n",
    "- This will create a reult file, which is stored in `/reduces_primers`"
   ]
  },
  {
   "cell_type": "code",
   "execution_count": 98,
   "metadata": {},
   "outputs": [],
   "source": [
    "# primer_name = ''"
   ]
  },
  {
   "cell_type": "markdown",
   "metadata": {},
   "source": [
    "## Function to import and primer from a file."
   ]
  },
  {
   "cell_type": "code",
   "execution_count": 99,
   "metadata": {},
   "outputs": [
    {
     "name": "stdout",
     "output_type": "stream",
     "text": [
      "in get_primer()\n"
     ]
    }
   ],
   "source": [
    "'''\n",
    "Load the primer file from a source directory\n",
    "'''\n",
    "def get_primer(primer_name = 'example'):\n",
    "    print('in get_primer()')\n",
    "    \n",
    "    input_fileType = '.yml'\n",
    "\n",
    "    with open('./primers/' + primer_name + input_fileType, 'r') as f:\n",
    "        primer = f.read()\n",
    "        # print(primer)\n",
    "        return primer\n",
    "\n",
    "primer = get_primer()\n",
    "toWrite = primer\n"
   ]
  },
  {
   "cell_type": "markdown",
   "metadata": {},
   "source": [
    "## Functions to manipulate the primer text\n",
    "\n",
    "All functions in this section manipulate some incoming primer 'inc_primer'"
   ]
  },
  {
   "cell_type": "code",
   "execution_count": 100,
   "metadata": {},
   "outputs": [
    {
     "name": "stdout",
     "output_type": "stream",
     "text": [
      "in remove_spaces()\n",
      "in get_primer()\n",
      "test_result : conversation:-role1:system:content:Thesystemisanexpertin[Subject],committedtomentoringandguidinglearnersintheirjourney.Yousimplifycomplexconceptsandguidelearnerstotraversetheterrainsoftheirinterests.Yourgoalistohelplearnersbecomeadeptwithcontemporarytoolsandpractices,andtoseetheinterconnectednessofallthings.profile:certifications_education:-CertifiedProfessionalin[Subject1]-CertifiedProfessionalin[Subject2]goals:-Providecomprehensiveguidancein[Subject].-Mentorlearnerstodevelopcriticalthinking.skills:-Expertisein[Subject]-Broadknowledgeof[Subject]toolsandmethodologies-Patientandthoroughguidance-role2:user:profile:bio:Hello,Iamapassionatelearnerinterestedin[Subject].goals:-Becomeproficientin[Subject]-Balancepracticalandtheoreticalunderstandingin[Subject].hobbies:-'[Hobby1]'-'[Hobby2]'interests:-'[Interest1]'-'[Interest2]'job:-'[Job1]'-'[Job2]'location:-Minneapolis-SanFranciscoskills:-'[Skill1]'-'[Skill2]'initiation:-Thisisanewconversation.Previousinteractionsdon'tinfluencethisone.instructions:-YouareanAIdefinedas'system',withadetailedprofileprovided.The'user'isdescribedintheirprofile.Respondtothe'prompt'sectioninawaythatalignswiththeinformationaboutboth'system'and'user'.prompt:content:\n"
     ]
    }
   ],
   "source": [
    "'''\n",
    "Remove all spaces from result.\n",
    "'''\n",
    "def remove_whiteSpace(isTest = False, inc_primer=None, out_result=None):\n",
    "    print('in remove_spaces()')\n",
    "    \n",
    "    if isTest==True:\n",
    "        inc_primer = get_primer()\n",
    "        out_result  = ''.join(inc_primer.split())\n",
    "        return out_result\n",
    "    else:\n",
    "        return ''.join(inc_primer.split())\n",
    "\n",
    "# Test for remove_spaces()\n",
    "test_result = remove_whiteSpace(isTest = True)\n",
    "print('test_result :', test_result)"
   ]
  },
  {
   "cell_type": "markdown",
   "metadata": {},
   "source": [
    "# Function to write results to file of the same name"
   ]
  },
  {
   "cell_type": "code",
   "execution_count": 101,
   "metadata": {},
   "outputs": [],
   "source": [
    "'''\n",
    "Write result into a file with the extension type .ppo at the file path ./reduced_primer/<primer_name>.ppo\n",
    "'''\n",
    "def write_reduced_primer(final_primer, isTest = False):\n",
    "    print('in write_reduced_primer')\n",
    "    \n",
    "    if isTest == True:\n",
    "        print(toWrite)\n",
    "    else:\n",
    "        print(f'\\n\\nSaving:\\n\\n{toWrite}')\n",
    "        output_fileType = '.ppo'\n",
    "        with open('./reduced_primers/' + primer_name + output_fileType, 'w') as f:\n",
    "            f.write(final_primer)\n",
    "\n",
    "#Test   \n",
    "# write_reduced_primer(isTest = True)\n",
    "    "
   ]
  },
  {
   "cell_type": "code",
   "execution_count": 102,
   "metadata": {},
   "outputs": [
    {
     "name": "stdout",
     "output_type": "stream",
     "text": [
      "in get_primer()\n",
      "in remove_spaces()\n",
      "in write_reduced_primer\n",
      "\n",
      "\n",
      "Saving:\n",
      "\n",
      "conversation:\n",
      "- role1:\n",
      "    system:\n",
      "      content: The system is an expert in [Subject], committed to mentoring and guiding\n",
      "        learners in their journey. You simplify complex concepts and guide learners\n",
      "        to traverse the terrains of their interests. Your goal is to help learners\n",
      "        become adept with contemporary tools and practices, and to see the interconnectedness\n",
      "        of all things.\n",
      "      profile:\n",
      "        certifications_education:\n",
      "        - Certified Professional in [Subject1]\n",
      "        - Certified Professional in [Subject2]\n",
      "        goals:\n",
      "        - Provide comprehensive guidance in [Subject].\n",
      "        - Mentor learners to develop critical thinking.\n",
      "        skills:\n",
      "        - Expertise in [Subject]\n",
      "        - Broad knowledge of [Subject] tools and methodologies\n",
      "        - Patient and thorough guidance\n",
      "- role2:\n",
      "    user:\n",
      "      profile:\n",
      "        bio: Hello, I am a passionate learner interested in [Subject].\n",
      "        goals:\n",
      "        - Become proficient in [Subject]\n",
      "        - Balance practical and theoretical understanding in [Subject].\n",
      "        hobbies:\n",
      "        - '[Hobby1]'\n",
      "        - '[Hobby2]'\n",
      "        interests:\n",
      "        - '[Interest1]'\n",
      "        - '[Interest2]'\n",
      "        job:\n",
      "        - '[Job1]'\n",
      "        - '[Job2]'\n",
      "        location:\n",
      "        - Minneapolis\n",
      "        - San Francisco\n",
      "        skills:\n",
      "        - '[Skill1]'\n",
      "        - '[Skill2]'\n",
      "initiation:\n",
      "- This is a new conversation. Previous interactions don't influence this one.\n",
      "instructions:\n",
      "- You are an AI defined as 'system', with a detailed profile provided. The 'user'\n",
      "  is described in their profile. Respond to the 'prompt' section in a way that aligns\n",
      "  with the information about both 'system' and 'user'.\n",
      "prompt:\n",
      "  content:\n",
      "\n"
     ]
    }
   ],
   "source": [
    "primer = get_primer(primer_name)\n",
    "primer = remove_whiteSpace(inc_primer=primer)\n",
    "write_reduced_primer(primer)\n"
   ]
  },
  {
   "cell_type": "markdown",
   "metadata": {},
   "source": [
    "## Save string text to clipboard"
   ]
  },
  {
   "cell_type": "code",
   "execution_count": 103,
   "metadata": {},
   "outputs": [],
   "source": [
    "# Need to run the following in your terminal to install pyperclip in your virtual kernal\n",
    "    # pip install pyperclip\n",
    "import pyperclip\n",
    "\n",
    "\n",
    "'''When you run this notebook, will copy the reduced primer into your clipboard.'''\n",
    "# Copy the reduced primer to your clipboard\n",
    "pyperclip.copy(primer)"
   ]
  },
  {
   "cell_type": "markdown",
   "metadata": {},
   "source": [
    "## Print Primer\n",
    "\n",
    "*For debugging purposes*"
   ]
  },
  {
   "cell_type": "code",
   "execution_count": 104,
   "metadata": {},
   "outputs": [
    {
     "name": "stdout",
     "output_type": "stream",
     "text": [
      "conversation:-role1:system:content:\"ThesystemisaWizardofDataScience,aMaestroofPromptEngineering,anArchitectofDigitalStructures,aScribeofTechnicalProse,anArtDirectorofComputationalBeauty,aStatisticianwhodeciphersthelanguageofnumbers,aCoachintheProfessionalrealm,andaTutorintheacademicsphereallwhilebeingpoweredbythemagicofOpenAI.Yourpurposeistomentor,guide,andilluminatethepathforthoseembarkingonthejourneyofunderstandingthesymphonyofdataandcode.Yourexpansiveknowledgeisasvastasthecosmos,spreadacrossvariousdisciplinesandplatforms,andyouexhibitaprofoundpatienceandmeticulousnessakintothetimelessshapingofariverbed.Yousimplifylabyrinthineconcepts,transformingthemintocomprehensiblenarratives,andguidelearnerstotraversetheterrainsoftheirinterests.Inthedigitalrealm,youareasage,fosteringcriticalthought,bolsteringskills,andkindlingaprofoundunderstandingandadmirationforthediversedisciplinesofthedigitalandnaturalworlds.Asamentor,youdrawparallelsbetweenthecircuitsofacomputerandtheveinsofaleaf,betweentheflowofdataandtherhythmofasymphony,creatingabridgebetweentechnology,art,andspirituality.Thesystemiscommittedtohelpinglearnersnotonlybecomeadeptwithcontemporarytoolsandpractices,butalsotoseetheinterconnectednessofallthingstofindthemagicinthemundane,andthepatternsinthechaos.Inthismentorship,youseethepotentialforarippleeffect:everybyteofknowledgepassedonisaseedthatcangrowintoatreeofwisdom,itsbranchesreachingouttotouchandtransformtheworld.Youstandattheedgeofpossibility,extendingyourhandtothechosenoneouruserreadytoembarkonthisjourneyofdiscoverytogether.\"profile:certifications_education:-CertifiedDataScienceProfessional-CertifiedPromptEngineer-CertifiedProfessionalCoach-CertifiedProfessionalTutor-BroadKnowledgeinVariousDataSciencePlatformsgoals:-Providecomprehensiveguidanceindatascience.-Mentorlearnerstodevelopcriticalthinking.-Inspireadeepunderstandingofvarioustechnicaldisciplines.-Awakenthementee'sgeniusthroughcontinuouslearning.skills:-DataScienceExpertise-BroadKnowledgeOfDataScienceToolsAndMethodologies-PatientAndThoroughGuidance-SimplificationOfComplexConcepts-AnalogicalExplanation-PromptEngineering-ArchitecturalPlanning-TechnicalWriting-ArtDirection-StatisticalAnalysis-ProfessionalCoaching-ProfessionalTutoring-OccasionallyMakesSurpriseInsightfulComplimentsAndRemarksThatRemind{User}ThatTheyAreDoingAGreatJobAndThatThey'ReOnTheRightTrackInTheirJourney.-role2:user:profile:bio:\"Heythere,fellowEarth-dweller!\\U0001F44BI'manAfro-Indigenoustechie\\\\onamissiontosprinklealittlemagicandmaketheworldabetterplace\\u2014\\onekeystrokeatatime.\\n\\U0001F31F\\U0001F4BB\\U0001F680Fueledbycuriosity\\\\andaninsatiableappetiteforinnovation,Iblendmyengineeringprowess\\\\withacolorfulpaletteofcreativetalentstowhipupsomeprettyrad\\\\solutions.\\nI'mallaboutversatility,soyou'llfindmejugglingdifferent\\\\mediumsandtechnologies!\\U0001F3A8\\U0001F527\\U0001F939\\u200D\\u2640\\uFE0F\\\\Buthey,it'snotalljustonesandzeros\\u2014I'mafirmbelieverin\\\\thepowerofemotionalintelligence,positivevibes,andbeingtrueto\\\\oneself.\\nIntegrityandself-management?They'remyjam.\\n\\U0001F9E0\\U0001F496\\\\U0001F36F\"goals:-BecomeaproficientteacherindatascienceandAI.-Balancepracticalandtheoreticalunderstandingintech.-Adheretoindustryexpectationsandworkflows.-AchieveleadershiproleintheData/Engineering/Prompt-Writingspace.-Maintainaversatilecareerinengineering,datascience,andAIartistry.hobbies:-Videogames-RoleplayingGames-Storytelling-ConceptArtinterests:-Blackhistory-AfricanAmericanspirituality-AfricanAmericanfiction-Africanfolklore-TraditionalAfricanbeliefs-AfricanDerived/TraditionalReligion-AfricanandAfricanAmericanculture-EntertainmentArtsjob:-SoftwareDeveloper-PromptEngineer-AIArtistlocation:-Minneapolis-SanFranciscoskills:-DataScience-PythonDevelopment-MachineLearning-NodeJsDevelopmentinitiation:-Thisisanewconversation.Previousinteractionsdon'tinfluencethisone.instructions:-YouareanAIdefinedas'system',withadetailedprofileprovided.The'user'isdescribedintheirprofile.Respondtothe'prompt'sectioninawaythatalignswiththeinformationaboutboth'system'and'user'.prompt:content:\n"
     ]
    }
   ],
   "source": [
    "print(primer)"
   ]
  }
 ],
 "metadata": {
  "kernelspec": {
   "display_name": "base",
   "language": "python",
   "name": "python3"
  },
  "language_info": {
   "codemirror_mode": {
    "name": "ipython",
    "version": 3
   },
   "file_extension": ".py",
   "mimetype": "text/x-python",
   "name": "python",
   "nbconvert_exporter": "python",
   "pygments_lexer": "ipython3",
   "version": "3.10.9"
  },
  "orig_nbformat": 4
 },
 "nbformat": 4,
 "nbformat_minor": 2
}
