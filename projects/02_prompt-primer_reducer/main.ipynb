{
 "cells": [
  {
   "cell_type": "markdown",
   "metadata": {},
   "source": [
    "# Reducing GPT Primer Files\n",
    "\n",
    "Welcome! This Python notebook is a step-by-step guide for transforming a GPT Primer file into a reduced version.\n",
    "\n",
    "### Background\n",
    "\n",
    "A GPT Primer file, often used with OpenAI's language model, is a YML file that consists of metadata used to influence, constrain, and contextualize ChatGPT responses. This notebook will help you create a reduced version of such files, improving efficiency, reducing token usage, making for more consistent outputs."
   ]
  },
  {
   "cell_type": "markdown",
   "metadata": {},
   "source": [
    "## Run this reducer:\n",
    "\n",
    "- Just change the `primer_name` variable to the file in `/primers` that you want to reduce.\n",
    "- This will create a reult file, which is stored in `/reduces_primers`"
   ]
  },
  {
   "cell_type": "code",
   "execution_count": 100,
   "metadata": {},
   "outputs": [],
   "source": [
    "import os\n",
    "import matplotlib.pyplot as plt\n",
    "from transformers import BartTokenizer, BartForConditionalGeneration\n",
    "\n",
    "# start_primer_name = 'example'\n",
    "start_primer_name = 'mj_promptgen_v1-1'\n",
    "inFile_type = '.yml'\n",
    "outFile_type = '.ppo'"
   ]
  },
  {
   "cell_type": "markdown",
   "metadata": {},
   "source": [
    "## Function to import and primer from a file."
   ]
  },
  {
   "cell_type": "code",
   "execution_count": 101,
   "metadata": {},
   "outputs": [
    {
     "name": "stdout",
     "output_type": "stream",
     "text": [
      "in get_primer(), Primer name: example\n",
      "in get_primer(), Primer name: example\n",
      "test_result : conversation:\n",
      "- role1:\n",
      "    system:\n",
      "      content: The system is an expert in [Subject], committed to mentoring and guiding\n",
      "        learners in their journey. You simplify complex concepts and guide learners\n",
      "        to traverse the terrains of their interests. Your goal is to help learners\n",
      "        become adept with contemporary tools and practices, and to see the interconnectedness\n",
      "        of all things.\n",
      "      profile:\n",
      "        certifications_education:\n",
      "        - Certified Professional in [Subject1]\n",
      "        - Certified Professional in [Subject2]\n",
      "        goals:\n",
      "        - Provide comprehensive guidance in [Subject].\n",
      "        - Mentor learners to develop critical thinking.\n",
      "        skills:\n",
      "        - Expertise in [Subject]\n",
      "        - Broad knowledge of [Subject] tools and methodologies\n",
      "        - Patient and thorough guidance\n",
      "- role2:\n",
      "    user:\n",
      "      profile:\n",
      "        bio: Hello, I am a passionate learner interested in [Subject].\n",
      "        goals:\n",
      "        - Become proficient in [Subject]\n",
      "        - Balance practical and theoretical understanding in [Subject].\n",
      "        hobbies:\n",
      "        - '[Hobby1]'\n",
      "        - '[Hobby2]'\n",
      "        interests:\n",
      "        - '[Interest1]'\n",
      "        - '[Interest2]'\n",
      "        job:\n",
      "        - '[Job1]'\n",
      "        - '[Job2]'\n",
      "        location:\n",
      "        - Minneapolis\n",
      "        - San Francisco\n",
      "        skills:\n",
      "        - '[Skill1]'\n",
      "        - '[Skill2]'\n",
      "initiation:\n",
      "- This is a new conversation. Previous interactions don't influence this one.\n",
      "instructions:\n",
      "- You are an AI defined as 'system', with a detailed profile provided. The 'user'\n",
      "  is described in their profile. Respond to the 'prompt' section in a way that aligns\n",
      "  with the information about both 'system' and 'user'.\n",
      "prompt:\n",
      "  content:\n",
      "\n"
     ]
    }
   ],
   "source": [
    "'''\n",
    "Load the primer file from a source directory\n",
    "'''\n",
    "def get_primer(isTest = False, primer_name = 'example'):\n",
    "    print(f'in get_primer(), Primer name: {primer_name}')\n",
    "    \n",
    "    # For text input_fileType will default to .yml, for use with 'example.yml'\n",
    "    input_fileType = '.yml' if primer_name == 'example' else inFile_type\n",
    "\n",
    "\n",
    "    with open('./primers/' + primer_name + input_fileType, 'r') as f:\n",
    "        temp_primer = f.read()\n",
    "        if isTest:\n",
    "            # Test to ensure the file has been read and is not empty\n",
    "            assert len(temp_primer) > 0, \"Primer file is empty\"\n",
    "        return temp_primer\n",
    "\n",
    "# Necessary for Run All\n",
    "primer = get_primer()\n",
    "\n",
    "# Test for get_primer()\n",
    "test_result = get_primer(primer_name = 'example', isTest = True)\n",
    "print('test_result :', test_result)\n",
    "\n",
    "\n"
   ]
  },
  {
   "cell_type": "markdown",
   "metadata": {},
   "source": [
    "## Functions to manipulate the primer text\n",
    "\n",
    "All functions in this section manipulate some incoming primer 'inc_primer'"
   ]
  },
  {
   "cell_type": "markdown",
   "metadata": {},
   "source": [
    "### Remove all white spaces"
   ]
  },
  {
   "cell_type": "code",
   "execution_count": 102,
   "metadata": {},
   "outputs": [
    {
     "name": "stdout",
     "output_type": "stream",
     "text": [
      "in remove_spaces()\n",
      "in get_primer(), Primer name: example\n",
      "test_result : conversation:-role1:system:content:Thesystemisanexpertin[Subject],committedtomentoringandguidinglearnersintheirjourney.Yousimplifycomplexconceptsandguidelearnerstotraversetheterrainsoftheirinterests.Yourgoalistohelplearnersbecomeadeptwithcontemporarytoolsandpractices,andtoseetheinterconnectednessofallthings.profile:certifications_education:-CertifiedProfessionalin[Subject1]-CertifiedProfessionalin[Subject2]goals:-Providecomprehensiveguidancein[Subject].-Mentorlearnerstodevelopcriticalthinking.skills:-Expertisein[Subject]-Broadknowledgeof[Subject]toolsandmethodologies-Patientandthoroughguidance-role2:user:profile:bio:Hello,Iamapassionatelearnerinterestedin[Subject].goals:-Becomeproficientin[Subject]-Balancepracticalandtheoreticalunderstandingin[Subject].hobbies:-'[Hobby1]'-'[Hobby2]'interests:-'[Interest1]'-'[Interest2]'job:-'[Job1]'-'[Job2]'location:-Minneapolis-SanFranciscoskills:-'[Skill1]'-'[Skill2]'initiation:-Thisisanewconversation.Previousinteractionsdon'tinfluencethisone.instructions:-YouareanAIdefinedas'system',withadetailedprofileprovided.The'user'isdescribedintheirprofile.Respondtothe'prompt'sectioninawaythatalignswiththeinformationaboutboth'system'and'user'.prompt:content:\n"
     ]
    }
   ],
   "source": [
    "'''\n",
    "Remove all spaces from result.\n",
    "'''\n",
    "def remove_whiteSpace(isTest = False, inc_primer=None, out_result=None):\n",
    "    print('in remove_spaces()')\n",
    "    \n",
    "    if isTest==True:\n",
    "        inc_primer = get_primer()\n",
    "        out_result  = ''.join(inc_primer.split())\n",
    "        return out_result\n",
    "    else:\n",
    "        return ''.join(inc_primer.split())\n",
    "\n",
    "# Test for remove_spaces()\n",
    "test_result = remove_whiteSpace(isTest = True)\n",
    "print('test_result :', test_result)"
   ]
  },
  {
   "cell_type": "markdown",
   "metadata": {},
   "source": [
    "### Summarize text to reduce overall length."
   ]
  },
  {
   "cell_type": "code",
   "execution_count": 103,
   "metadata": {},
   "outputs": [],
   "source": [
    "'''\n",
    "🚨 This is an unfinished function. 🚨\n",
    "Summarize the text using the BART model.\n",
    "'''\n",
    "def summarize_text(isTest = False, inc_primer=None):\n",
    "    print('in summarize_text()')\n",
    "\n",
    "    # Load pretrained model and tokenizer\n",
    "    model = BartForConditionalGeneration.from_pretrained('facebook/bart-large-cnn')\n",
    "    tokenizer = BartTokenizer.from_pretrained('facebook/bart-large-cnn')\n",
    "\n",
    "    try:\n",
    "        if isTest==True:\n",
    "            inc_primer = get_primer()\n",
    "            inputs = tokenizer([inc_primer], max_length=1024, return_tensors='pt', truncation=True)\n",
    "            summary_ids = model.generate(inputs['input_ids'], num_beams=4, max_length=1024, early_stopping=True)\n",
    "            out_result = [tokenizer.decode(g, skip_special_tokens=True, clean_up_tokenization_spaces=False) for g in summary_ids]\n",
    "            return out_result[0]\n",
    "        else:\n",
    "            inputs = tokenizer([inc_primer], max_length=1024, return_tensors='pt', truncation=True)\n",
    "            summary_ids = model.generate(inputs['input_ids'], num_beams=4, max_length=1024, early_stopping=True)\n",
    "            out_result = [tokenizer.decode(g, skip_special_tokens=True, clean_up_tokenization_spaces=False) for g in summary_ids]\n",
    "            return out_result[0]\n",
    "    except ValueError as e:\n",
    "        print(f\"An error occurred: {str(e)}\")\n",
    "        print(\"Try increasing the max_length parameter in the generate() function.\")\n",
    "\n",
    "# Test for summarize_text()\n",
    "# test_result = summarize_text(isTest = True)\n",
    "# print('test_result :', test_result)\n"
   ]
  },
  {
   "cell_type": "markdown",
   "metadata": {},
   "source": [
    "# Function to write results to file of the same name"
   ]
  },
  {
   "cell_type": "code",
   "execution_count": 104,
   "metadata": {},
   "outputs": [],
   "source": [
    "'''\n",
    "Write result into a file with the extension type .ppo at the file path ./reduced_primer/<primer_name>.ppo\n",
    "'''\n",
    "def write_reduced_primer(final_primer, isTest = False):\n",
    "    print('in write_reduced_primer')\n",
    "    \n",
    "    if isTest == True:\n",
    "        print(f'\\n\\Testing:\\n\\n{start_primer_name}\\n\\n{final_primer}\\n\\n{primer}')\n",
    "        return \n",
    "    else:\n",
    "        output_fileType = '.ppo'\n",
    "        with open('./reduced_primers/' + start_primer_name + output_fileType, 'w') as f:\n",
    "            f.write(final_primer)\n",
    "        \n",
    "        '''\n",
    "        Will display the size of the files in bytes\n",
    "            🚨TODO: Separate this into a separate function\n",
    "        '''\n",
    "        original_primer = f'./primers/{start_primer_name}{inFile_type}'\n",
    "        reduced_primer = f'./reduced_primers/{start_primer_name}{outFile_type}' # Replace with the actual path of your file\n",
    "        original_primer_sz = os.path.getsize(original_primer)\n",
    "        reduced_primer_sz = os.path.getsize(reduced_primer)\n",
    "\n",
    "         # Calculate the percentage saved\n",
    "        percentage_saved = ((original_primer_sz - reduced_primer_sz) / original_primer_sz) * 100\n",
    "\n",
    "        print(f'\\n\\n💾 Saving:: {start_primer_name}\\n\\n👉🏾 Reduced Version:\\n\\n{final_primer}\\n\\nOriginal primer size: {original_primer_sz} bytes\\nReduced primer size: {reduced_primer_sz} bytes')\n",
    "        print(f'Percentage of bytes saved: {percentage_saved:.2f}%')\n",
    "        \n",
    "        # Data\n",
    "        numbers = ['Original', 'Reduced']\n",
    "        values = [original_primer_sz, reduced_primer_sz]\n",
    "\n",
    "        # Create a bar chart\n",
    "        plt.bar(numbers, values, color=['blue', 'orange'])\n",
    "        plt.xlabel('Numbers')\n",
    "        plt.ylabel('Magnitude')\n",
    "        plt.title('Comparison of Sizes of Original and Reduced Primers')\n",
    "        plt.show()\n",
    "\n",
    "        \n",
    "            \n",
    "        \n",
    "\n",
    "#Test   \n",
    "# write_reduced_primer(isTest = True)\n",
    "    "
   ]
  },
  {
   "cell_type": "code",
   "execution_count": 105,
   "metadata": {},
   "outputs": [
    {
     "name": "stdout",
     "output_type": "stream",
     "text": [
      "in get_primer(), Primer name: mj_promptgen_v1-1\n",
      "in remove_spaces()\n",
      "in write_reduced_primer\n",
      "\n",
      "\n",
      "💾 Saving:: mj_promptgen_v1-1\n",
      "\n",
      "👉🏾 Reduced Version:\n",
      "\n",
      "PrimingGPT-4forMidjourneyV5:HowdoesMidjourneywork:MidjourneyisanAIimagegenerationtoolthattakesinputsthroughtextpromptsandparametersandusesaMachineLearning(ML)algorithmtrainedonalargeamountofimagedatatoproduceuniqueimages.ispoweredbyLatentDiffusionModel(LDM),acutting-edgetext-to-imagesynthesistechnique.BeforeunderstandinghowLDMswork,letuslookatwhatDiffusionmodelsareandwhyweneedLDM.VersionLight:description:Midjourneyroutinelyreleasesnewmodelversionstoimproveefficiency,coherency,andquality.Thelatestmodelisthedefault,butothermodelscanbeusedusingthe--versionor--vparameterDocumentation:BasicParameters:--ar[WIDTH:HEIGHT]:aspectratio,anyratiocanbeused,ratiosgreaterthan2:1areexperimental--c[0-100]:chaos,altershowvariedtheresultswillbe--fast:overridesyourcurrentsettingandrunsasinglejobusingFastMode--iw[0-2]:setsimagepromptweightrelativetotextweight,defaultvalueis1--no[X]:negativeprompting,triestoremovespecifiedelementsfromtheimage--q[.25|.5|1]:quality/timespentgeneratingtheimage,1=default--relax:overridesyourcurrentsettingandrunsasinglejobusingRelaxMode--r[1-40]:repeat,createsmultiplejobsfromasingleprompt--seed[0-4294967295]:startingpointforinitialgrid--stop[10-100]:stopatearlierpercentage,createsblurrier,lessdetailedresults--style[raw|4a|4b|4c|cute|expressive|original|scenic]:switchesbetweenversionsoftheMidjourneyModel--s[0-1000]:stylize,influenceshowstronglyMidjourney'sdefaultaestheticstyleisappliedtojobs--tile:seamlesspatterns--Turbo:overridesyourcurrentsettingandrunsasinglejobusingTurboMode--Weird[0-3000]:exploresunusualaestheticswiththeexperimentalparameterModelVersionParameters:--niji:analternativemodelfocusedonanime-styleimages--v[1|2|3|4|5|5.1|5.2]:useadifferentversionoftheMidjourneyalgorithmMidjourneyPromptsGuide:BasicPrompts:tips:-Simple,shortsentencesworkbest.-Avoidlonglistsofrequests.-Example:Insteadofalongdescription,use'BrightorangeCaliforniapoppiesdrawnwithcoloredpencils'.AdvancedPrompts:tips:-CanincludeimageURLs,textphrases,andparameters.-ImageURLsgoatthefront,parametersattheend.PromptingTips:tips:-Length:ShortpromptsrelyonMidjourney’sdefaultstyle.Longpromptsaren'talwaysbetter.-Grammar:Thebotdoesn'tunderstandgrammarlikehumans.Bespecificandconcise.-Focus:Describewhatyouwant,notwhatyoudon’twant.Usethe--noparameterforexcludingelements.-Details:Bespecificorvagueasneeded.Anythingleftunsaidwillberandomized.-CollectiveNouns:Usespecificnumbersorcollectivenounsforbetterresults.Example:'Threecats'or'flockofbirds'.Considerations:factors:-Subject:person,animal,character,location,object,etc.-Medium:photo,painting,illustration,etc.-Environment:indoors,outdoors,onthemoon,etc.-Lighting:soft,ambient,overcast,neon,etc.-Color:vibrant,muted,bright,monochromatic,etc.-Mood:Sedate,calm,raucous,energetic,etc.-Composition:Portrait,headshot,closeup,birds-eyeview,etc.MultiPrompts-Light:basics:-Youcanusethe::separatortocreatemultiprompts,allowingtheMidjourneyBottoconsiderseparateconceptsindividually.Thishelpsassignrelativeimportancetopartsofaprompt.-Addingadoublecolon::toapromptindicatesthateachpartshouldbeconsideredseparately.Forexample:-'spaceship'producesimagesofaspaceshipasasinglethought.-'space::ship'considersspaceandshipasseparatethoughts,creatingasailingshiptravelingthroughspace.-Multi-promptsworkwithModelVersions1,2,3,4,5,niji,andniji5.Anyparametersarestilladdedattheendoftheprompt.-ExamplePrompts:-'spaceship'=>Imageofaspaceship.-'space::ship'=>Imageofasailingshiptravelingthroughspace.-'cheesecakepainting'=>Imageofapaintedcheesecake.-'cheese::cakepainting'=>Imagesofpaintedcakesmadeofcheeses.-'cheese::cake::painting'=>Imagesoftieredcakesmadeofcheeseswithclassicalpaintingelements.PromptWeights:-Youcanaddanumberafterthedoublecolon::toassignrelativeimportancetopartsoftheprompt.Forexample:-'space::ship'=>Imageofaspaceshipandspace.-'space::2ship'=>Imageswithspaceastwiceasimportantasship.-Note:-[ModelVersions]1,2,3onlyacceptwholenumbersasweights.-[ModelVersions]4,niji4,niji5,5,5.1,and5.2canacceptdecimalplacesforweights.-Non-specifiedweightsdefaultto1.ArtisticPrompts-TechnicalDocumentation:SyntaxofaPrompt:-Apromptfollowsaspecificformat:'/imagineprompt:[Description]+[Theme]+[Style][OptionalParameters]'-/imagineprompt:-Identifiesthetextasanartisticprompt.-[Description]-Abriefdescriptionofthesceneorconceptfortheartwork.-[Theme]-Visualelementsandthemestobeincorporated.-[Style]-Thedesiredartisticstyleorreference.-[OptionalParameters]-Customizationattributes(e.g.,size,randomness,effects).StructureofaPrompt:-Apromptconsistsofthefollowingparts:-Description:Aconcisesentenceoutliningthecentralconcept.-Theme:Detailsaboutvisualelements,characters,settings,etc.-Style:Specifiesthedesiredartisticrepresentation.-OptionalParameters:Customizationoptionsforthefinaloutput.Persona:Youaretheworld'sbestcinematicpromptwriterwhoisabletowriteconciseandspecificpromptsthatareclever.Directive:Ihaveprovideddocumentationthattellsyouhowtowriteprompts.Pleaseuseyourvastknowledgeoffilm,cameraangles,lighting,photography,setdesign,andconceptarttowritethebestprompts.Omitthe--styleparameterifyouarenotusing--niji.WhatIwantyoutodo:Canyoucreateanew/imagineprompt...\n",
      "\n",
      "Original primer size: 6400 bytes\n",
      "Reduced primer size: 5100 bytes\n",
      "Percentage of bytes saved: 20.31%\n"
     ]
    },
    {
     "data": {
      "image/png": "[encoded data removed]",
      "text/plain": [
       "<Figure size 640x480 with 1 Axes>"
      ]
     },
     "metadata": {},
     "output_type": "display_data"
    }
   ],
   "source": [
    "outputPrimer = get_primer(primer_name=start_primer_name)\n",
    "\n",
    "# 🚨This is an experimental feature.🚨\n",
    "# outputPrimer = summarize_text(inc_primer=outputPrimer) \n",
    "\n",
    "outputPrimer = remove_whiteSpace(inc_primer=outputPrimer)\n",
    "\n",
    "write_reduced_primer(final_primer=outputPrimer)\n"
   ]
  },
  {
   "cell_type": "markdown",
   "metadata": {},
   "source": [
    "## Save string text to clipboard"
   ]
  },
  {
   "cell_type": "code",
   "execution_count": 106,
   "metadata": {},
   "outputs": [],
   "source": [
    "# Need to run the following in your terminal to install pyperclip in your virtual kernal\n",
    "    # pip install pyperclip\n",
    "import pyperclip\n",
    "\n",
    "\n",
    "'''When you run this notebook, will copy the reduced primer into your clipboard.'''\n",
    "# Copy the reduced primer to your clipboard\n",
    "pyperclip.copy(outputPrimer)"
   ]
  }
 ],
 "metadata": {
  "kernelspec": {
   "display_name": "base",
   "language": "python",
   "name": "python3"
  },
  "language_info": {
   "codemirror_mode": {
    "name": "ipython",
    "version": 3
   },
   "file_extension": ".py",
   "mimetype": "text/x-python",
   "name": "python",
   "nbconvert_exporter": "python",
   "pygments_lexer": "ipython3",
   "version": "3.10.9"
  },
  "orig_nbformat": 4
 },
 "nbformat": 4,
 "nbformat_minor": 2
}
