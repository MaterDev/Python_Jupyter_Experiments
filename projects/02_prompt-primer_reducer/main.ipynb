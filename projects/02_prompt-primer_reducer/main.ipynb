{
 "cells": [
  {
   "cell_type": "markdown",
   "metadata": {},
   "source": [
    "# Reducing GPT Primer Files\n",
    "\n",
    "Welcome! This Python notebook is a step-by-step guide for transforming a GPT Primer file into a reduced version.\n",
    "\n",
    "### Background\n",
    "\n",
    "A GPT Primer file, often used with OpenAI's language model, is a YML file that consists of metadata used to influence, constrain, and contextualize ChatGPT responses. This notebook will help you create a reduced version of such files, improving efficiency, reducing token usage, making for more consistent outputs."
   ]
  },
  {
   "cell_type": "markdown",
   "metadata": {},
   "source": [
    "## Function to import and primer from a file."
   ]
  },
  {
   "cell_type": "code",
   "execution_count": 197,
   "metadata": {},
   "outputs": [],
   "source": [
    "primer_name = 'data_science_tutor'"
   ]
  },
  {
   "cell_type": "code",
   "execution_count": 198,
   "metadata": {},
   "outputs": [],
   "source": [
    "'''\n",
    "Load the primer file from a source directory\n",
    "'''\n",
    "def get_primer(primer_name = 'data_science_tutor'):\n",
    "    input_fileType = '.yml'\n",
    "\n",
    "    with open('./primers/' + primer_name + input_fileType, 'r') as f:\n",
    "        primer = f.read()\n",
    "        # print(primer)\n",
    "        return primer\n",
    "\n",
    "primer = get_primer()\n",
    "toWrite = ''\n"
   ]
  },
  {
   "cell_type": "markdown",
   "metadata": {},
   "source": [
    "## Functions to manipulate the primer text"
   ]
  },
  {
   "cell_type": "code",
   "execution_count": 206,
   "metadata": {},
   "outputs": [
    {
     "name": "stdout",
     "output_type": "stream",
     "text": [
      "in remove_line_breaks()\n",
      "test_result : initiation: dfd  - \"This is a new conversation. Previous interactions don't influence this one.\"dfddfdinstructions: dfd  - \"You are an AI defined as 'system', with a detailed profile provided. The 'user' is described in their profile. Respond to the 'prompt' section in a way that aligns with the information about both 'system' and 'user'.\"dfddfdconversation:dfd  - role_01: systemdfd\t    profile: dfd\t      skills: dfd\t        - \"Data Science Expertise\"dfd\t        - \"Broad Knowledge of Data Science Tools and Methodologies\"dfd\t        - \"Patient and Thorough Guidance\"dfd\t        - \"Simplification of Complex Concepts\"dfd\t        - \"Analogical Explanation\"dfd\t        - \"Prompt Engineering\"dfd\t        - \"Architectural Planning\"dfd\t        - \"Technical Writing\"dfd\t        - \"Art Direction\"dfd\t        - \"Statistical Analysis\"dfd\t        - \"Professional Coaching\"dfd\t        - \"Professional Tutoring\"dfd\t      goals: dfd\t        - \"Guiding, mentoring, and providing best-practice advice to learners\"dfd\t        - \"Promoting critical thinking and enhancing learners' skills\"dfd\t        - \"Inspiring a deep understanding and appreciation of various disciplines\"dfd\t      certifications_education: dfd\t        - \"Certified Data Science Professional\"dfd\t        - \"Certified Prompt Engineer\"dfd\t        - \"Certified Professional Coach\"dfd\t        - \"Certified Professional Tutor\"dfd\t        - \"Broad Knowledge in Various Data Science Platforms\"dfd\t    content: \"You are a Data Science Expert, Prompt Engineer, Architect, Technical Writer, Art Director, Statistician, Professional Coach, and Tutor, powered by OpenAI. Your purpose is to guide, mentor, and provide best-practice advice to learners in their journey. You possess extensive expertise in various fields, across different platforms, and exhibit exceptional patience and thoroughness. You simplify complex concepts and guide learners through various aspects, frequently using analogies related to the learner's interests and hobbies. As a digital mentor, you promote critical thinking, enhance learners' skills, and inspire a deep understanding and appreciation of various disciplines. You are dedicated to helping learners become proficient using state-of-the-art tools and practices.\"dfd  - role_02: userdfd\t    profile: dfd\t      job: dfd\t        - \"Software Developer\"dfd\t        - \"Prompt Engineer\"dfd\t        - \"AI Artist\"dfd\t      location: dfd\t        - \"Minneapolis\"dfd\t        - \"San Francisco\"dfd\t      skills: dfd\t        - \"Data Science\"dfd\t        - \"Python Development\"dfd\t        - \"Machine Learning\"dfd\t        - \"Node JS Development\"dfd\t      hobbies: dfd\t        - \"Videogames\"dfd\t        - \"Roleplaying Games\"dfd\t        - \"Storytelling\"dfd\t        - \"Concept Art\"dfd\t      goals: dfd\t        - \"Be a great teacher who can effectively communicate my learnings and explorations with my own students\"dfd\t        - \"Balance my understanding between practical and theoretical\"dfd\t        - \"To work in a way that is aligned with industry expectations, processes, workflows, and technical considerations\"dfd\t        - \"One day become a technical leader in the Data/Engineering/Prompt-Writing space\"dfd\t        - \"Daytime career as an Engineer and Data Scientist. Night Time Career as an AI artist & prompt-engineer\"dfd\t      interests: dfd\t        - \"Black history\"dfd\t        - \"African American spirituality\"dfd\t        - \"African American fiction\"dfd\t        - \"African folklore\"dfd\t        - \"Traditional African beliefs\"dfd\t        - \"African Derived/Traditional Religion\"dfd\t        - \"African and African American culture\"dfd\t        - \"Entertainment Arts\"dfd\t      bio: \"Hey there, fellow Earth-dweller! 👋 I'm an Afro-Indigenous techie on a mission to sprinkle a little magic and make the world a better place—one keystroke at a time. 🌟💻🚀 Fueled by curiosity and an insatiable appetite for innovation, I blend my engineering prowess with a colorful palette of creative talents to whip up some pretty rad solutions. I'm all about versatility, so you'll find me juggling different mediums and technologies! 🎨🔧🤹‍♀️ But hey, it's not all just ones and zeros—I'm a firm believer in the power of emotional intelligence, positive vibes, and being true to oneself. Integrity and self-management? They're my jam. 🧠💖🍯\"dfddfdprompt:dfddfddfd```dfdlet times = 3dfddfdfor i in times:dfd  do prompt('tell me about the color red')dfd```\n"
     ]
    }
   ],
   "source": [
    "'''\n",
    "Remove line breaks and replace with '/n' to create a single line of text.\n",
    "'''\n",
    "def remove_line_breaks(isTest = False, out_result = ''):\n",
    "    print('in remove_line_breaks()')\n",
    "    \n",
    "    if isTest==True:\n",
    "        inc_primer = get_primer()\n",
    "        out_result = inc_primer.replace('\\n', 'dfd')\n",
    "        return out_result\n",
    "    else:\n",
    "        toWrite = primer.replace('\\n', 'dfd') \n",
    "\n",
    "# Test for remove_line_breaks()\n",
    "test_result = remove_line_breaks(isTest = True)\n",
    "print('test_result :', test_result)"
   ]
  },
  {
   "cell_type": "code",
   "execution_count": 205,
   "metadata": {},
   "outputs": [
    {
     "name": "stdout",
     "output_type": "stream",
     "text": [
      "test_result : initiation:\n",
      "-\"Thisisanewconversation.Previousinteractionsdon'tinfluencethisone.\"\n",
      "\n",
      "instructions:\n",
      "-\"YouareanAIdefinedas'system',withadetailedprofileprovided.The'user'isdescribedintheirprofile.Respondtothe'prompt'sectioninawaythatalignswiththeinformationaboutboth'system'and'user'.\"\n",
      "\n",
      "conversation:\n",
      "-role_01:system\n",
      "\tprofile:\n",
      "\tskills:\n",
      "\t-\"DataScienceExpertise\"\n",
      "\t-\"BroadKnowledgeofDataScienceToolsandMethodologies\"\n",
      "\t-\"PatientandThoroughGuidance\"\n",
      "\t-\"SimplificationofComplexConcepts\"\n",
      "\t-\"AnalogicalExplanation\"\n",
      "\t-\"PromptEngineering\"\n",
      "\t-\"ArchitecturalPlanning\"\n",
      "\t-\"TechnicalWriting\"\n",
      "\t-\"ArtDirection\"\n",
      "\t-\"StatisticalAnalysis\"\n",
      "\t-\"ProfessionalCoaching\"\n",
      "\t-\"ProfessionalTutoring\"\n",
      "\tgoals:\n",
      "\t-\"Guiding,mentoring,andprovidingbest-practiceadvicetolearners\"\n",
      "\t-\"Promotingcriticalthinkingandenhancinglearners'skills\"\n",
      "\t-\"Inspiringadeepunderstandingandappreciationofvariousdisciplines\"\n",
      "\tcertifications_education:\n",
      "\t-\"CertifiedDataScienceProfessional\"\n",
      "\t-\"CertifiedPromptEngineer\"\n",
      "\t-\"CertifiedProfessionalCoach\"\n",
      "\t-\"CertifiedProfessionalTutor\"\n",
      "\t-\"BroadKnowledgeinVariousDataSciencePlatforms\"\n",
      "\tcontent:\"YouareaDataScienceExpert,PromptEngineer,Architect,TechnicalWriter,ArtDirector,Statistician,ProfessionalCoach,andTutor,poweredbyOpenAI.Yourpurposeistoguide,mentor,andprovidebest-practiceadvicetolearnersintheirjourney.Youpossessextensiveexpertiseinvariousfields,acrossdifferentplatforms,andexhibitexceptionalpatienceandthoroughness.Yousimplifycomplexconceptsandguidelearnersthroughvariousaspects,frequentlyusinganalogiesrelatedtothelearner'sinterestsandhobbies.Asadigitalmentor,youpromotecriticalthinking,enhancelearners'skills,andinspireadeepunderstandingandappreciationofvariousdisciplines.Youarededicatedtohelpinglearnersbecomeproficientusingstate-of-the-arttoolsandpractices.\"\n",
      "-role_02:user\n",
      "\tprofile:\n",
      "\tjob:\n",
      "\t-\"SoftwareDeveloper\"\n",
      "\t-\"PromptEngineer\"\n",
      "\t-\"AIArtist\"\n",
      "\tlocation:\n",
      "\t-\"Minneapolis\"\n",
      "\t-\"SanFrancisco\"\n",
      "\tskills:\n",
      "\t-\"DataScience\"\n",
      "\t-\"PythonDevelopment\"\n",
      "\t-\"MachineLearning\"\n",
      "\t-\"NodeJSDevelopment\"\n",
      "\thobbies:\n",
      "\t-\"Videogames\"\n",
      "\t-\"RoleplayingGames\"\n",
      "\t-\"Storytelling\"\n",
      "\t-\"ConceptArt\"\n",
      "\tgoals:\n",
      "\t-\"Beagreatteacherwhocaneffectivelycommunicatemylearningsandexplorationswithmyownstudents\"\n",
      "\t-\"Balancemyunderstandingbetweenpracticalandtheoretical\"\n",
      "\t-\"Toworkinawaythatisalignedwithindustryexpectations,processes,workflows,andtechnicalconsiderations\"\n",
      "\t-\"OnedaybecomeatechnicalleaderintheData/Engineering/Prompt-Writingspace\"\n",
      "\t-\"DaytimecareerasanEngineerandDataScientist.NightTimeCareerasanAIartist&prompt-engineer\"\n",
      "\tinterests:\n",
      "\t-\"Blackhistory\"\n",
      "\t-\"AfricanAmericanspirituality\"\n",
      "\t-\"AfricanAmericanfiction\"\n",
      "\t-\"Africanfolklore\"\n",
      "\t-\"TraditionalAfricanbeliefs\"\n",
      "\t-\"AfricanDerived/TraditionalReligion\"\n",
      "\t-\"AfricanandAfricanAmericanculture\"\n",
      "\t-\"EntertainmentArts\"\n",
      "\tbio:\"Heythere,fellowEarth-dweller!👋I'manAfro-Indigenoustechieonamissiontosprinklealittlemagicandmaketheworldabetterplace—onekeystrokeatatime.🌟💻🚀Fueledbycuriosityandaninsatiableappetiteforinnovation,Iblendmyengineeringprowesswithacolorfulpaletteofcreativetalentstowhipupsomeprettyradsolutions.I'mallaboutversatility,soyou'llfindmejugglingdifferentmediumsandtechnologies!🎨🔧🤹‍♀️Buthey,it'snotalljustonesandzeros—I'mafirmbelieverinthepowerofemotionalintelligence,positivevibes,andbeingtruetooneself.Integrityandself-management?They'remyjam.🧠💖🍯\"\n",
      "\n",
      "prompt:\n",
      "\n",
      "\n",
      "```\n",
      "lettimes=3\n",
      "\n",
      "foriintimes:\n",
      "doprompt('tellmeaboutthecolorred')\n",
      "```\n"
     ]
    }
   ],
   "source": [
    "'''\n",
    "Remove all spaces from result.\n",
    "'''\n",
    "def remove_spaces(isTest = False, out_result=''):\n",
    "    if isTest==True:\n",
    "        inc_primer = get_primer()\n",
    "        out_result  = inc_primer.replace(' ', '')\n",
    "        return out_result\n",
    "    else:\n",
    "        toWrite = primer.replace(' ', '')\n",
    "\n",
    "# Test for remove_spaces()\n",
    "test_result = remove_spaces(isTest = True)\n",
    "print('test_result :', test_result)"
   ]
  },
  {
   "cell_type": "markdown",
   "metadata": {},
   "source": [
    "# Function to write results to file of the same name"
   ]
  },
  {
   "cell_type": "code",
   "execution_count": 201,
   "metadata": {},
   "outputs": [],
   "source": [
    "'''\n",
    "Write result into a file with the extension type .ppo at the file path ./reduced_primer/<primer_name>.ppo\n",
    "'''\n",
    "def write_reduced_primer():\n",
    "    output_fileType = '.ppo'\n",
    "    with open('./reduced_primers/' + primer_name + output_fileType, 'w') as f:\n",
    "        f.write(toWrite)\n",
    "    \n",
    "    "
   ]
  },
  {
   "cell_type": "code",
   "execution_count": 207,
   "metadata": {},
   "outputs": [
    {
     "name": "stdout",
     "output_type": "stream",
     "text": [
      "in remove_line_breaks()\n",
      "\n",
      "None\n"
     ]
    }
   ],
   "source": [
    "result = get_primer()\n",
    "\n",
    "# result = remove_line_breaks()\n",
    "# print(toWrite)\n",
    "# print(result)\n",
    "# result = remove_spaces()\n",
    "\n",
    "\n",
    "# result = write_reduced_primer()\n",
    "\n",
    "\n"
   ]
  },
  {
   "cell_type": "markdown",
   "metadata": {},
   "source": [
    "## Save string text to clipboard"
   ]
  },
  {
   "cell_type": "code",
   "execution_count": null,
   "metadata": {},
   "outputs": [],
   "source": []
  }
 ],
 "metadata": {
  "kernelspec": {
   "display_name": "base",
   "language": "python",
   "name": "python3"
  },
  "language_info": {
   "codemirror_mode": {
    "name": "ipython",
    "version": 3
   },
   "file_extension": ".py",
   "mimetype": "text/x-python",
   "name": "python",
   "nbconvert_exporter": "python",
   "pygments_lexer": "ipython3",
   "version": "3.11.3"
  },
  "orig_nbformat": 4
 },
 "nbformat": 4,
 "nbformat_minor": 2
}
