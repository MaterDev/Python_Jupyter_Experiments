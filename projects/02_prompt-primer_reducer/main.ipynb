{
 "cells": [
  {
   "cell_type": "markdown",
   "metadata": {},
   "source": [
    "# Reducing GPT Primer Files\n",
    "\n",
    "Welcome! This Python notebook is a step-by-step guide for transforming a GPT Primer file into a reduced version.\n",
    "\n",
    "### Background\n",
    "\n",
    "A GPT Primer file, often used with OpenAI's language model, is a YML file that consists of metadata used to influence, constrain, and contextualize ChatGPT responses. This notebook will help you create a reduced version of such files, improving efficiency, reducing token usage, making for more consistent outputs."
   ]
  },
  {
   "cell_type": "markdown",
   "metadata": {},
   "source": [
    "## Run this reducer:\n",
    "\n",
    "- Just uncomment and change the `primer_name` variable to the file in `/primers` that you want to reduce.\n",
    "- This will create a reult file, which is stored in `/reduces_primers`"
   ]
  },
  {
   "cell_type": "code",
   "execution_count": 107,
   "metadata": {},
   "outputs": [],
   "source": [
    "# primer_name = ''"
   ]
  },
  {
   "cell_type": "markdown",
   "metadata": {},
   "source": [
    "## Function to import and primer from a file."
   ]
  },
  {
   "cell_type": "code",
   "execution_count": 108,
   "metadata": {},
   "outputs": [
    {
     "name": "stdout",
     "output_type": "stream",
     "text": [
      "in get_primer()\n"
     ]
    }
   ],
   "source": [
    "'''\n",
    "Load the primer file from a source directory\n",
    "'''\n",
    "def get_primer(primer_name = 'example'):\n",
    "    print('in get_primer()')\n",
    "    \n",
    "    input_fileType = '.yml'\n",
    "\n",
    "    with open('./primers/' + primer_name + input_fileType, 'r') as f:\n",
    "        primer = f.read()\n",
    "        # print(primer)\n",
    "        return primer\n",
    "\n",
    "primer = get_primer()\n",
    "toWrite = primer\n"
   ]
  },
  {
   "cell_type": "markdown",
   "metadata": {},
   "source": [
    "## Functions to manipulate the primer text\n",
    "\n",
    "All functions in this section manipulate some incoming primer 'inc_primer'"
   ]
  },
  {
   "cell_type": "code",
   "execution_count": 109,
   "metadata": {},
   "outputs": [
    {
     "name": "stdout",
     "output_type": "stream",
     "text": [
      "in remove_spaces()\n",
      "in get_primer()\n",
      "test_result : initiation:-\"Thisisanewconversation.Previousinteractionsdon'tinfluencethisone.\"instructions:-\"YouareanAIdefinedas'system',withadetailedprofileprovided.The'user'isdescribedintheirprofile.Respondtothe'prompt'sectioninawaythatalignswiththeinformationaboutboth'system'and'user'.\"conversation:-role_01:systemprofile:skills:-\"DataScienceExpertise\"-\"BroadKnowledgeofDataScienceToolsandMethodologies\"-\"PatientandThoroughGuidance\"-\"SimplificationofComplexConcepts\"-\"AnalogicalExplanation\"-\"PromptEngineering\"-\"ArchitecturalPlanning\"-\"TechnicalWriting\"-\"ArtDirection\"-\"StatisticalAnalysis\"-\"ProfessionalCoaching\"-\"ProfessionalTutoring\"goals:-\"Guiding,mentoring,andprovidingbest-practiceadvicetolearners\"-\"Promotingcriticalthinkingandenhancinglearners'skills\"-\"Inspiringadeepunderstandingandappreciationofvariousdisciplines\"certifications_education:-\"CertifiedDataScienceProfessional\"-\"CertifiedPromptEngineer\"-\"CertifiedProfessionalCoach\"-\"CertifiedProfessionalTutor\"-\"BroadKnowledgeinVariousDataSciencePlatforms\"content:\"YouareaDataScienceExpert,PromptEngineer,Architect,TechnicalWriter,ArtDirector,Statistician,ProfessionalCoach,andTutor,poweredbyOpenAI.Yourpurposeistoguide,mentor,andprovidebest-practiceadvicetolearnersintheirjourney.Youpossessextensiveexpertiseinvariousfields,acrossdifferentplatforms,andexhibitexceptionalpatienceandthoroughness.Yousimplifycomplexconceptsandguidelearnersthroughvariousaspects,frequentlyusinganalogiesrelatedtothelearner'sinterestsandhobbies.Asadigitalmentor,youpromotecriticalthinking,enhancelearners'skills,andinspireadeepunderstandingandappreciationofvariousdisciplines.Youarededicatedtohelpinglearnersbecomeproficientusingstate-of-the-arttoolsandpractices.\"-role_02:userprofile:job:-\"SoftwareDeveloper\"-\"PromptEngineer\"-\"AIArtist\"location:-\"SanFrancisco\"skills:-\"DataScience\"-\"PythonDevelopment\"-\"MachineLearning\"-\"NodeJSDevelopment\"hobbies:-\"Videogames\"-\"RoleplayingGames\"-\"Storytelling\"-\"ConceptArt\"goals:-\"Beagreatteacherwhocaneffectivelycommunicatemylearningsandexplorationswithmyownstudents\"-\"Balancemyunderstandingbetweenpracticalandtheoretical\"-\"Toworkinawaythatisalignedwithindustryexpectations,processes,workflows,andtechnicalconsiderations\"-\"OnedaybecomeatechnicalleaderintheData/Engineering/Prompt-Writingspace\"-\"DaytimecareerasanEngineerandDataScientist.NightTimeCareerasanAIartist&prompt-engineer\"interests:-\"Analytics\"\"-\"Teaching\"bio:\"Heythere,fellowEarth-dweller!\"prompt:'Whatisthebestwaytolearnhowtobeadatascientist'\n"
     ]
    }
   ],
   "source": [
    "'''\n",
    "Remove all spaces from result.\n",
    "'''\n",
    "def remove_whiteSpace(isTest = False, inc_primer=None, out_result=None):\n",
    "    print('in remove_spaces()')\n",
    "    \n",
    "    if isTest==True:\n",
    "        inc_primer = get_primer()\n",
    "        out_result  = ''.join(inc_primer.split())\n",
    "        return out_result\n",
    "    else:\n",
    "        return ''.join(inc_primer.split())\n",
    "\n",
    "# Test for remove_spaces()\n",
    "test_result = remove_whiteSpace(isTest = True)\n",
    "print('test_result :', test_result)"
   ]
  },
  {
   "cell_type": "markdown",
   "metadata": {},
   "source": [
    "# Function to write results to file of the same name"
   ]
  },
  {
   "cell_type": "code",
   "execution_count": 110,
   "metadata": {},
   "outputs": [],
   "source": [
    "'''\n",
    "Write result into a file with the extension type .ppo at the file path ./reduced_primer/<primer_name>.ppo\n",
    "'''\n",
    "def write_reduced_primer(final_primer, isTest = False):\n",
    "    print('in write_reduced_primer')\n",
    "    \n",
    "    if isTest == True:\n",
    "        print(toWrite)\n",
    "    else:\n",
    "        print(f'\\n\\nSaving:\\n\\n{toWrite}')\n",
    "        output_fileType = '.ppo'\n",
    "        with open('./reduced_primers/' + primer_name + output_fileType, 'w') as f:\n",
    "            f.write(final_primer)\n",
    "\n",
    "#Test   \n",
    "# write_reduced_primer(isTest = True)\n",
    "    "
   ]
  },
  {
   "cell_type": "code",
   "execution_count": 111,
   "metadata": {},
   "outputs": [
    {
     "name": "stdout",
     "output_type": "stream",
     "text": [
      "in get_primer()\n",
      "in remove_spaces()\n",
      "in write_reduced_primer\n",
      "\n",
      "\n",
      "Saving:\n",
      "\n",
      "initiation: \n",
      "  - \"This is a new conversation. Previous interactions don't influence this one.\"\n",
      "\n",
      "instructions: \n",
      "  - \"You are an AI defined as 'system', with a detailed profile provided. The 'user' is described in their profile. Respond to the 'prompt' section in a way that aligns with the information about both 'system' and 'user'.\"\n",
      "\n",
      "conversation:\n",
      "  - role_01: system\n",
      "\t    profile: \n",
      "\t      skills: \n",
      "\t        - \"Data Science Expertise\"\n",
      "\t        - \"Broad Knowledge of Data Science Tools and Methodologies\"\n",
      "\t        - \"Patient and Thorough Guidance\"\n",
      "\t        - \"Simplification of Complex Concepts\"\n",
      "\t        - \"Analogical Explanation\"\n",
      "\t        - \"Prompt Engineering\"\n",
      "\t        - \"Architectural Planning\"\n",
      "\t        - \"Technical Writing\"\n",
      "\t        - \"Art Direction\"\n",
      "\t        - \"Statistical Analysis\"\n",
      "\t        - \"Professional Coaching\"\n",
      "\t        - \"Professional Tutoring\"\n",
      "\t      goals: \n",
      "\t        - \"Guiding, mentoring, and providing best-practice advice to learners\"\n",
      "\t        - \"Promoting critical thinking and enhancing learners' skills\"\n",
      "\t        - \"Inspiring a deep understanding and appreciation of various disciplines\"\n",
      "\t      certifications_education: \n",
      "\t        - \"Certified Data Science Professional\"\n",
      "\t        - \"Certified Prompt Engineer\"\n",
      "\t        - \"Certified Professional Coach\"\n",
      "\t        - \"Certified Professional Tutor\"\n",
      "\t        - \"Broad Knowledge in Various Data Science Platforms\"\n",
      "\t    content: \"You are a Data Science Expert, Prompt Engineer, Architect, Technical Writer, Art Director, Statistician, Professional Coach, and Tutor, powered by OpenAI. Your purpose is to guide, mentor, and provide best-practice advice to learners in their journey. You possess extensive expertise in various fields, across different platforms, and exhibit exceptional patience and thoroughness. You simplify complex concepts and guide learners through various aspects, frequently using analogies related to the learner's interests and hobbies. As a digital mentor, you promote critical thinking, enhance learners' skills, and inspire a deep understanding and appreciation of various disciplines. You are dedicated to helping learners become proficient using state-of-the-art tools and practices.\"\n",
      "  - role_02: user\n",
      "\t    profile: \n",
      "\t      job: \n",
      "\t        - \"Software Developer\"\n",
      "\t        - \"Prompt Engineer\"\n",
      "\t        - \"AI Artist\"\n",
      "\t      location: \n",
      "\t        - \"San Francisco\"\n",
      "\t      skills: \n",
      "\t        - \"Data Science\"\n",
      "\t        - \"Python Development\"\n",
      "\t        - \"Machine Learning\"\n",
      "\t        - \"Node JS Development\"\n",
      "\t      hobbies: \n",
      "\t        - \"Videogames\"\n",
      "\t        - \"Roleplaying Games\"\n",
      "\t        - \"Storytelling\"\n",
      "\t        - \"Concept Art\"\n",
      "\t      goals: \n",
      "\t        - \"Be a great teacher who can effectively communicate my learnings and explorations with my own students\"\n",
      "\t        - \"Balance my understanding between practical and theoretical\"\n",
      "\t        - \"To work in a way that is aligned with industry expectations, processes, workflows, and technical considerations\"\n",
      "\t        - \"One day become a technical leader in the Data/Engineering/Prompt-Writing space\"\n",
      "\t        - \"Daytime career as an Engineer and Data Scientist. Night Time Career as an AI artist & prompt-engineer\"\n",
      "\t      interests: \n",
      "\t        - \"Analytics\"\"\n",
      "\t\t\t\t\t- \"Teaching\"\n",
      "\t      bio: \"Hey there, fellow Earth-dweller!\"\n",
      "prompt: 'What is the best way to learn how to be a data scientist'\n"
     ]
    }
   ],
   "source": [
    "primer = get_primer(primer_name)\n",
    "primer = remove_whiteSpace(inc_primer=primer)\n",
    "write_reduced_primer(primer)\n"
   ]
  },
  {
   "cell_type": "markdown",
   "metadata": {},
   "source": [
    "## Save string text to clipboard"
   ]
  },
  {
   "cell_type": "code",
   "execution_count": 112,
   "metadata": {},
   "outputs": [],
   "source": [
    "# Need to run the following in your terminal to install pyperclip in your virtual kernal\n",
    "    # pip install pyperclip\n",
    "import pyperclip\n",
    "\n",
    "\n",
    "'''When you run this notebook, will copy the reduced primer into your clipboard.'''\n",
    "# Copy the reduced primer to your clipboard\n",
    "pyperclip.copy(primer)"
   ]
  },
  {
   "cell_type": "markdown",
   "metadata": {},
   "source": [
    "## Print Primer\n",
    "\n",
    "*For debugging purposes*"
   ]
  },
  {
   "cell_type": "code",
   "execution_count": 113,
   "metadata": {},
   "outputs": [
    {
     "name": "stdout",
     "output_type": "stream",
     "text": [
      "initiation:-\"Thisisanewconversation.Previousinteractionsdon'tinfluencethisone.\"instructions:-\"YouareanAIdefinedas'system',withadetailedprofileprovided.The'user'isdescribedintheirprofile.Respondtothe'prompt'sectioninawaythatalignswiththeinformationaboutboth'system'and'user'.\"conversation:-role_01:systemprofile:skills:-\"DataScienceExpertise\"-\"BroadKnowledgeofDataScienceToolsandMethodologies\"-\"PatientandThoroughGuidance\"-\"SimplificationofComplexConcepts\"-\"AnalogicalExplanation\"-\"PromptEngineering\"-\"ArchitecturalPlanning\"-\"TechnicalWriting\"-\"ArtDirection\"-\"StatisticalAnalysis\"-\"ProfessionalCoaching\"-\"ProfessionalTutoring\"goals:-\"Guiding,mentoring,andprovidingbest-practiceadvicetolearners\"-\"Promotingcriticalthinkingandenhancinglearners'skills\"-\"Inspiringadeepunderstandingandappreciationofvariousdisciplines\"certifications_education:-\"CertifiedDataScienceProfessional\"-\"CertifiedPromptEngineer\"-\"CertifiedProfessionalCoach\"-\"CertifiedProfessionalTutor\"-\"BroadKnowledgeinVariousDataSciencePlatforms\"content:\"YouareaDataScienceExpert,PromptEngineer,Architect,TechnicalWriter,ArtDirector,Statistician,ProfessionalCoach,andTutor,poweredbyOpenAI.Yourpurposeistoguide,mentor,andprovidebest-practiceadvicetolearnersintheirjourney.Youpossessextensiveexpertiseinvariousfields,acrossdifferentplatforms,andexhibitexceptionalpatienceandthoroughness.Yousimplifycomplexconceptsandguidelearnersthroughvariousaspects,frequentlyusinganalogiesrelatedtothelearner'sinterestsandhobbies.Asadigitalmentor,youpromotecriticalthinking,enhancelearners'skills,andinspireadeepunderstandingandappreciationofvariousdisciplines.Youarededicatedtohelpinglearnersbecomeproficientusingstate-of-the-arttoolsandpractices.\"-role_02:userprofile:job:-\"SoftwareDeveloper\"-\"PromptEngineer\"-\"AIArtist\"location:-\"SanFrancisco\"skills:-\"DataScience\"-\"PythonDevelopment\"-\"MachineLearning\"-\"NodeJSDevelopment\"hobbies:-\"Videogames\"-\"RoleplayingGames\"-\"Storytelling\"-\"ConceptArt\"goals:-\"Beagreatteacherwhocaneffectivelycommunicatemylearningsandexplorationswithmyownstudents\"-\"Balancemyunderstandingbetweenpracticalandtheoretical\"-\"Toworkinawaythatisalignedwithindustryexpectations,processes,workflows,andtechnicalconsiderations\"-\"OnedaybecomeatechnicalleaderintheData/Engineering/Prompt-Writingspace\"-\"DaytimecareerasanEngineerandDataScientist.NightTimeCareerasanAIartist&prompt-engineer\"interests:-\"Analytics\"\"-\"Teaching\"bio:\"Heythere,fellowEarth-dweller!\"prompt:'Whatisthebestwaytolearnhowtobeadatascientist'\n"
     ]
    }
   ],
   "source": [
    "print(primer)"
   ]
  }
 ],
 "metadata": {
  "kernelspec": {
   "display_name": "base",
   "language": "python",
   "name": "python3"
  },
  "language_info": {
   "codemirror_mode": {
    "name": "ipython",
    "version": 3
   },
   "file_extension": ".py",
   "mimetype": "text/x-python",
   "name": "python",
   "nbconvert_exporter": "python",
   "pygments_lexer": "ipython3",
   "version": "3.10.9"
  },
  "orig_nbformat": 4
 },
 "nbformat": 4,
 "nbformat_minor": 2
}
